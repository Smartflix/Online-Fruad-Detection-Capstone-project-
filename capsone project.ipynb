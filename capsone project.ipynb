{
 "cells": [
  {
   "cell_type": "markdown",
   "id": "999d984b",
   "metadata": {},
   "source": [
    "# Project Topic: Online Fraud Detection\n",
    "\n",
    "Objective :\n",
    "To build a machine learning model to detect online fraud for BB PLC¶"
   ]
  },
  {
   "cell_type": "code",
   "execution_count": 1,
   "id": "afafa511",
   "metadata": {},
   "outputs": [],
   "source": [
    "# importing liberies \n",
    "import pandas as pd\n",
    "import matplotlib.pyplot as plt\n",
    "import seaborn as sns\n"
   ]
  },
  {
   "cell_type": "code",
   "execution_count": 2,
   "id": "9d3692c9",
   "metadata": {},
   "outputs": [],
   "source": [
    "# LOADING OF FILE \n",
    "online_fraud= pd.read_csv(r'Online Fraud Detection.csv')"
   ]
  },
  {
   "cell_type": "code",
   "execution_count": 3,
   "id": "3a7bec71",
   "metadata": {},
   "outputs": [
    {
     "data": {
      "text/html": [
       "<div>\n",
       "<style scoped>\n",
       "    .dataframe tbody tr th:only-of-type {\n",
       "        vertical-align: middle;\n",
       "    }\n",
       "\n",
       "    .dataframe tbody tr th {\n",
       "        vertical-align: top;\n",
       "    }\n",
       "\n",
       "    .dataframe thead th {\n",
       "        text-align: right;\n",
       "    }\n",
       "</style>\n",
       "<table border=\"1\" class=\"dataframe\">\n",
       "  <thead>\n",
       "    <tr style=\"text-align: right;\">\n",
       "      <th></th>\n",
       "      <th>step</th>\n",
       "      <th>type</th>\n",
       "      <th>amount</th>\n",
       "      <th>nameOrig</th>\n",
       "      <th>oldbalanceOrg</th>\n",
       "      <th>newbalanceOrig</th>\n",
       "      <th>nameDest</th>\n",
       "      <th>oldbalanceDest</th>\n",
       "      <th>newbalanceDest</th>\n",
       "      <th>isFraud</th>\n",
       "    </tr>\n",
       "  </thead>\n",
       "  <tbody>\n",
       "    <tr>\n",
       "      <th>0</th>\n",
       "      <td>1</td>\n",
       "      <td>PAYMENT</td>\n",
       "      <td>9839.64</td>\n",
       "      <td>C1231006815</td>\n",
       "      <td>170136.0</td>\n",
       "      <td>160296.36</td>\n",
       "      <td>M1979787155</td>\n",
       "      <td>0.0</td>\n",
       "      <td>0.0</td>\n",
       "      <td>0</td>\n",
       "    </tr>\n",
       "    <tr>\n",
       "      <th>1</th>\n",
       "      <td>1</td>\n",
       "      <td>PAYMENT</td>\n",
       "      <td>1864.28</td>\n",
       "      <td>C1666544295</td>\n",
       "      <td>21249.0</td>\n",
       "      <td>19384.72</td>\n",
       "      <td>M2044282225</td>\n",
       "      <td>0.0</td>\n",
       "      <td>0.0</td>\n",
       "      <td>0</td>\n",
       "    </tr>\n",
       "    <tr>\n",
       "      <th>2</th>\n",
       "      <td>1</td>\n",
       "      <td>TRANSFER</td>\n",
       "      <td>181.00</td>\n",
       "      <td>C1305486145</td>\n",
       "      <td>181.0</td>\n",
       "      <td>0.00</td>\n",
       "      <td>C553264065</td>\n",
       "      <td>0.0</td>\n",
       "      <td>0.0</td>\n",
       "      <td>1</td>\n",
       "    </tr>\n",
       "    <tr>\n",
       "      <th>3</th>\n",
       "      <td>1</td>\n",
       "      <td>CASH_OUT</td>\n",
       "      <td>181.00</td>\n",
       "      <td>C840083671</td>\n",
       "      <td>181.0</td>\n",
       "      <td>0.00</td>\n",
       "      <td>C38997010</td>\n",
       "      <td>21182.0</td>\n",
       "      <td>0.0</td>\n",
       "      <td>1</td>\n",
       "    </tr>\n",
       "    <tr>\n",
       "      <th>4</th>\n",
       "      <td>1</td>\n",
       "      <td>PAYMENT</td>\n",
       "      <td>11668.14</td>\n",
       "      <td>C2048537720</td>\n",
       "      <td>41554.0</td>\n",
       "      <td>29885.86</td>\n",
       "      <td>M1230701703</td>\n",
       "      <td>0.0</td>\n",
       "      <td>0.0</td>\n",
       "      <td>0</td>\n",
       "    </tr>\n",
       "  </tbody>\n",
       "</table>\n",
       "</div>"
      ],
      "text/plain": [
       "   step      type    amount     nameOrig  oldbalanceOrg  newbalanceOrig  \\\n",
       "0     1   PAYMENT   9839.64  C1231006815       170136.0       160296.36   \n",
       "1     1   PAYMENT   1864.28  C1666544295        21249.0        19384.72   \n",
       "2     1  TRANSFER    181.00  C1305486145          181.0            0.00   \n",
       "3     1  CASH_OUT    181.00   C840083671          181.0            0.00   \n",
       "4     1   PAYMENT  11668.14  C2048537720        41554.0        29885.86   \n",
       "\n",
       "      nameDest  oldbalanceDest  newbalanceDest  isFraud  \n",
       "0  M1979787155             0.0             0.0        0  \n",
       "1  M2044282225             0.0             0.0        0  \n",
       "2   C553264065             0.0             0.0        1  \n",
       "3    C38997010         21182.0             0.0        1  \n",
       "4  M1230701703             0.0             0.0        0  "
      ]
     },
     "execution_count": 3,
     "metadata": {},
     "output_type": "execute_result"
    }
   ],
   "source": [
    "# CHECKING THE FIRST FIVE ROWS\n",
    "online_fraud.head()"
   ]
  },
  {
   "cell_type": "code",
   "execution_count": 4,
   "id": "347f42ad",
   "metadata": {},
   "outputs": [
    {
     "data": {
      "text/html": [
       "<div>\n",
       "<style scoped>\n",
       "    .dataframe tbody tr th:only-of-type {\n",
       "        vertical-align: middle;\n",
       "    }\n",
       "\n",
       "    .dataframe tbody tr th {\n",
       "        vertical-align: top;\n",
       "    }\n",
       "\n",
       "    .dataframe thead th {\n",
       "        text-align: right;\n",
       "    }\n",
       "</style>\n",
       "<table border=\"1\" class=\"dataframe\">\n",
       "  <thead>\n",
       "    <tr style=\"text-align: right;\">\n",
       "      <th></th>\n",
       "      <th>step</th>\n",
       "      <th>type</th>\n",
       "      <th>amount</th>\n",
       "      <th>nameOrig</th>\n",
       "      <th>oldbalanceOrg</th>\n",
       "      <th>newbalanceOrig</th>\n",
       "      <th>nameDest</th>\n",
       "      <th>oldbalanceDest</th>\n",
       "      <th>newbalanceDest</th>\n",
       "      <th>isFraud</th>\n",
       "    </tr>\n",
       "  </thead>\n",
       "  <tbody>\n",
       "    <tr>\n",
       "      <th>1048570</th>\n",
       "      <td>95</td>\n",
       "      <td>CASH_OUT</td>\n",
       "      <td>132557.35</td>\n",
       "      <td>C1179511630</td>\n",
       "      <td>479803.00</td>\n",
       "      <td>347245.65</td>\n",
       "      <td>C435674507</td>\n",
       "      <td>484329.37</td>\n",
       "      <td>616886.72</td>\n",
       "      <td>0</td>\n",
       "    </tr>\n",
       "    <tr>\n",
       "      <th>1048571</th>\n",
       "      <td>95</td>\n",
       "      <td>PAYMENT</td>\n",
       "      <td>9917.36</td>\n",
       "      <td>C1956161225</td>\n",
       "      <td>90545.00</td>\n",
       "      <td>80627.64</td>\n",
       "      <td>M668364942</td>\n",
       "      <td>0.00</td>\n",
       "      <td>0.00</td>\n",
       "      <td>0</td>\n",
       "    </tr>\n",
       "    <tr>\n",
       "      <th>1048572</th>\n",
       "      <td>95</td>\n",
       "      <td>PAYMENT</td>\n",
       "      <td>14140.05</td>\n",
       "      <td>C2037964975</td>\n",
       "      <td>20545.00</td>\n",
       "      <td>6404.95</td>\n",
       "      <td>M1355182933</td>\n",
       "      <td>0.00</td>\n",
       "      <td>0.00</td>\n",
       "      <td>0</td>\n",
       "    </tr>\n",
       "    <tr>\n",
       "      <th>1048573</th>\n",
       "      <td>95</td>\n",
       "      <td>PAYMENT</td>\n",
       "      <td>10020.05</td>\n",
       "      <td>C1633237354</td>\n",
       "      <td>90605.00</td>\n",
       "      <td>80584.95</td>\n",
       "      <td>M1964992463</td>\n",
       "      <td>0.00</td>\n",
       "      <td>0.00</td>\n",
       "      <td>0</td>\n",
       "    </tr>\n",
       "    <tr>\n",
       "      <th>1048574</th>\n",
       "      <td>95</td>\n",
       "      <td>PAYMENT</td>\n",
       "      <td>11450.03</td>\n",
       "      <td>C1264356443</td>\n",
       "      <td>80584.95</td>\n",
       "      <td>69134.92</td>\n",
       "      <td>M677577406</td>\n",
       "      <td>0.00</td>\n",
       "      <td>0.00</td>\n",
       "      <td>0</td>\n",
       "    </tr>\n",
       "  </tbody>\n",
       "</table>\n",
       "</div>"
      ],
      "text/plain": [
       "         step      type     amount     nameOrig  oldbalanceOrg  \\\n",
       "1048570    95  CASH_OUT  132557.35  C1179511630      479803.00   \n",
       "1048571    95   PAYMENT    9917.36  C1956161225       90545.00   \n",
       "1048572    95   PAYMENT   14140.05  C2037964975       20545.00   \n",
       "1048573    95   PAYMENT   10020.05  C1633237354       90605.00   \n",
       "1048574    95   PAYMENT   11450.03  C1264356443       80584.95   \n",
       "\n",
       "         newbalanceOrig     nameDest  oldbalanceDest  newbalanceDest  isFraud  \n",
       "1048570       347245.65   C435674507       484329.37       616886.72        0  \n",
       "1048571        80627.64   M668364942            0.00            0.00        0  \n",
       "1048572         6404.95  M1355182933            0.00            0.00        0  \n",
       "1048573        80584.95  M1964992463            0.00            0.00        0  \n",
       "1048574        69134.92   M677577406            0.00            0.00        0  "
      ]
     },
     "execution_count": 4,
     "metadata": {},
     "output_type": "execute_result"
    }
   ],
   "source": [
    "# CHECKING THE LAST FIVE ROWS\n",
    "online_fraud.tail()"
   ]
  },
  {
   "cell_type": "code",
   "execution_count": 5,
   "id": "a4877f99",
   "metadata": {},
   "outputs": [
    {
     "data": {
      "text/plain": [
       "(1048575, 10)"
      ]
     },
     "execution_count": 5,
     "metadata": {},
     "output_type": "execute_result"
    }
   ],
   "source": [
    "# TO CHECK THE NUMBER OF ROWS AND COLUMNS IN THE DATASET\n",
    "online_fraud.shape"
   ]
  },
  {
   "cell_type": "code",
   "execution_count": 6,
   "id": "bed851a9",
   "metadata": {},
   "outputs": [
    {
     "data": {
      "text/plain": [
       "step              0\n",
       "type              0\n",
       "amount            0\n",
       "nameOrig          0\n",
       "oldbalanceOrg     0\n",
       "newbalanceOrig    0\n",
       "nameDest          0\n",
       "oldbalanceDest    0\n",
       "newbalanceDest    0\n",
       "isFraud           0\n",
       "dtype: int64"
      ]
     },
     "execution_count": 6,
     "metadata": {},
     "output_type": "execute_result"
    }
   ],
   "source": [
    "# TO CHEECK FOR MISSING VALUE\n",
    "# from the check its seen that there is no missing value.\n",
    "online_fraud.isna().sum()"
   ]
  },
  {
   "cell_type": "code",
   "execution_count": 7,
   "id": "ef14a9a3",
   "metadata": {},
   "outputs": [
    {
     "name": "stdout",
     "output_type": "stream",
     "text": [
      "<class 'pandas.core.frame.DataFrame'>\n",
      "RangeIndex: 1048575 entries, 0 to 1048574\n",
      "Data columns (total 10 columns):\n",
      " #   Column          Non-Null Count    Dtype  \n",
      "---  ------          --------------    -----  \n",
      " 0   step            1048575 non-null  int64  \n",
      " 1   type            1048575 non-null  object \n",
      " 2   amount          1048575 non-null  float64\n",
      " 3   nameOrig        1048575 non-null  object \n",
      " 4   oldbalanceOrg   1048575 non-null  float64\n",
      " 5   newbalanceOrig  1048575 non-null  float64\n",
      " 6   nameDest        1048575 non-null  object \n",
      " 7   oldbalanceDest  1048575 non-null  float64\n",
      " 8   newbalanceDest  1048575 non-null  float64\n",
      " 9   isFraud         1048575 non-null  int64  \n",
      "dtypes: float64(5), int64(2), object(3)\n",
      "memory usage: 80.0+ MB\n"
     ]
    }
   ],
   "source": [
    "# TO CHECKFOR DATATYPE,NON -NUL COUNT,NUMBER OF COLUMN AS WELL AS MEMORY USAGE OF THE DATASET\n",
    "online_fraud.info()"
   ]
  },
  {
   "cell_type": "code",
   "execution_count": 8,
   "id": "347c9338",
   "metadata": {},
   "outputs": [],
   "source": [
    "# 7 and 8 will be converted to float"
   ]
  },
  {
   "cell_type": "code",
   "execution_count": 10,
   "id": "087ae28c",
   "metadata": {},
   "outputs": [
    {
     "data": {
      "text/plain": [
       "isFraud           1.000000\n",
       "amount            0.128862\n",
       "step              0.045030\n",
       "oldbalanceOrg     0.003829\n",
       "newbalanceDest   -0.000495\n",
       "oldbalanceDest   -0.007552\n",
       "newbalanceOrig   -0.009438\n",
       "Name: isFraud, dtype: float64"
      ]
     },
     "execution_count": 10,
     "metadata": {},
     "output_type": "execute_result"
    }
   ],
   "source": [
    "# Checking correlation\n",
    "correlation = online_fraud.corr()\n",
    "correlation[\"isFraud\"].sort_values(ascending=False)"
   ]
  },
  {
   "cell_type": "code",
   "execution_count": 11,
   "id": "97781d48",
   "metadata": {},
   "outputs": [
    {
     "data": {
      "text/html": [
       "<div>\n",
       "<style scoped>\n",
       "    .dataframe tbody tr th:only-of-type {\n",
       "        vertical-align: middle;\n",
       "    }\n",
       "\n",
       "    .dataframe tbody tr th {\n",
       "        vertical-align: top;\n",
       "    }\n",
       "\n",
       "    .dataframe thead th {\n",
       "        text-align: right;\n",
       "    }\n",
       "</style>\n",
       "<table border=\"1\" class=\"dataframe\">\n",
       "  <thead>\n",
       "    <tr style=\"text-align: right;\">\n",
       "      <th></th>\n",
       "      <th>step</th>\n",
       "      <th>amount</th>\n",
       "      <th>oldbalanceOrg</th>\n",
       "      <th>newbalanceOrig</th>\n",
       "      <th>oldbalanceDest</th>\n",
       "      <th>newbalanceDest</th>\n",
       "      <th>isFraud</th>\n",
       "    </tr>\n",
       "  </thead>\n",
       "  <tbody>\n",
       "    <tr>\n",
       "      <th>count</th>\n",
       "      <td>1048575</td>\n",
       "      <td>1048575</td>\n",
       "      <td>1048575</td>\n",
       "      <td>1048575</td>\n",
       "      <td>1048575</td>\n",
       "      <td>1048575</td>\n",
       "      <td>1048575</td>\n",
       "    </tr>\n",
       "    <tr>\n",
       "      <th>mean</th>\n",
       "      <td>26</td>\n",
       "      <td>158666</td>\n",
       "      <td>874009</td>\n",
       "      <td>893808</td>\n",
       "      <td>978160</td>\n",
       "      <td>1114197</td>\n",
       "      <td>0</td>\n",
       "    </tr>\n",
       "    <tr>\n",
       "      <th>std</th>\n",
       "      <td>15</td>\n",
       "      <td>264940</td>\n",
       "      <td>2971750</td>\n",
       "      <td>3008271</td>\n",
       "      <td>2296780</td>\n",
       "      <td>2416593</td>\n",
       "      <td>0</td>\n",
       "    </tr>\n",
       "    <tr>\n",
       "      <th>min</th>\n",
       "      <td>1</td>\n",
       "      <td>0</td>\n",
       "      <td>0</td>\n",
       "      <td>0</td>\n",
       "      <td>0</td>\n",
       "      <td>0</td>\n",
       "      <td>0</td>\n",
       "    </tr>\n",
       "    <tr>\n",
       "      <th>25%</th>\n",
       "      <td>15</td>\n",
       "      <td>12149</td>\n",
       "      <td>0</td>\n",
       "      <td>0</td>\n",
       "      <td>0</td>\n",
       "      <td>0</td>\n",
       "      <td>0</td>\n",
       "    </tr>\n",
       "    <tr>\n",
       "      <th>50%</th>\n",
       "      <td>20</td>\n",
       "      <td>76343</td>\n",
       "      <td>16002</td>\n",
       "      <td>0</td>\n",
       "      <td>126377</td>\n",
       "      <td>218260</td>\n",
       "      <td>0</td>\n",
       "    </tr>\n",
       "    <tr>\n",
       "      <th>75%</th>\n",
       "      <td>39</td>\n",
       "      <td>213761</td>\n",
       "      <td>136642</td>\n",
       "      <td>174599</td>\n",
       "      <td>915923</td>\n",
       "      <td>1149807</td>\n",
       "      <td>0</td>\n",
       "    </tr>\n",
       "    <tr>\n",
       "      <th>max</th>\n",
       "      <td>95</td>\n",
       "      <td>10000000</td>\n",
       "      <td>38900000</td>\n",
       "      <td>38900000</td>\n",
       "      <td>42100000</td>\n",
       "      <td>42200000</td>\n",
       "      <td>1</td>\n",
       "    </tr>\n",
       "  </tbody>\n",
       "</table>\n",
       "</div>"
      ],
      "text/plain": [
       "          step    amount  oldbalanceOrg  newbalanceOrig  oldbalanceDest  \\\n",
       "count  1048575   1048575        1048575         1048575         1048575   \n",
       "mean        26    158666         874009          893808          978160   \n",
       "std         15    264940        2971750         3008271         2296780   \n",
       "min          1         0              0               0               0   \n",
       "25%         15     12149              0               0               0   \n",
       "50%         20     76343          16002               0          126377   \n",
       "75%         39    213761         136642          174599          915923   \n",
       "max         95  10000000       38900000        38900000        42100000   \n",
       "\n",
       "       newbalanceDest  isFraud  \n",
       "count         1048575  1048575  \n",
       "mean          1114197        0  \n",
       "std           2416593        0  \n",
       "min                 0        0  \n",
       "25%                 0        0  \n",
       "50%            218260        0  \n",
       "75%           1149807        0  \n",
       "max          42200000        1  "
      ]
     },
     "execution_count": 11,
     "metadata": {},
     "output_type": "execute_result"
    }
   ],
   "source": [
    "# DESCRIPTIVE DATA ANALYSIS ON THE DATASET AND CONVERT THE TYPE FROM STANDARD FORM TO INTEGER\n",
    "online_fraud.describe().astype(int)"
   ]
  },
  {
   "cell_type": "code",
   "execution_count": 12,
   "id": "73d57a7e",
   "metadata": {},
   "outputs": [
    {
     "data": {
      "text/plain": [
       "CASH_OUT    373641\n",
       "PAYMENT     353873\n",
       "CASH_IN     227130\n",
       "TRANSFER     86753\n",
       "DEBIT         7178\n",
       "Name: type, dtype: int32"
      ]
     },
     "execution_count": 12,
     "metadata": {},
     "output_type": "execute_result"
    }
   ],
   "source": [
    "# TO CHECK THE DISTRIBUTION OF DATASET BASED ON TYPE\n",
    "online_fraud['type'].value_counts().astype(int)"
   ]
  },
  {
   "cell_type": "code",
   "execution_count": 13,
   "id": "fc8ff78b",
   "metadata": {},
   "outputs": [
    {
     "data": {
      "text/plain": [
       "CASH_OUT    0.356332\n",
       "PAYMENT     0.337480\n",
       "CASH_IN     0.216608\n",
       "TRANSFER    0.082734\n",
       "DEBIT       0.006845\n",
       "Name: type, dtype: float64"
      ]
     },
     "execution_count": 13,
     "metadata": {},
     "output_type": "execute_result"
    }
   ],
   "source": [
    "# TO CHECK THE DISTRIBUTION OF DATASET BASED ON TYPE AND CONVERT TO PERCENTAGE\n",
    "online_fraud['type'].value_counts(normalize = True)"
   ]
  },
  {
   "cell_type": "code",
   "execution_count": 14,
   "id": "ba557175",
   "metadata": {},
   "outputs": [
    {
     "data": {
      "text/plain": [
       "C985934102     98.0\n",
       "C1286084959    96.0\n",
       "C1590550415    89.0\n",
       "C248609774     88.0\n",
       "C665576141     87.0\n",
       "               ... \n",
       "M382871047      1.0\n",
       "M322765556      1.0\n",
       "M1118794441     1.0\n",
       "M1127250627     1.0\n",
       "M677577406      1.0\n",
       "Name: nameDest, Length: 449635, dtype: float64"
      ]
     },
     "execution_count": 14,
     "metadata": {},
     "output_type": "execute_result"
    }
   ],
   "source": [
    "online_fraud['amount'].value_counts().astype(float)\n",
    "online_fraud['nameOrig'].value_counts().astype(float)\n",
    "online_fraud['nameDest'].value_counts().astype(float)"
   ]
  },
  {
   "cell_type": "code",
   "execution_count": 15,
   "id": "c517b0e3",
   "metadata": {},
   "outputs": [
    {
     "data": {
      "text/plain": [
       "<AxesSubplot:>"
      ]
     },
     "execution_count": 15,
     "metadata": {},
     "output_type": "execute_result"
    },
    {
     "data": {
      "image/png": "[encoded data removed]",
      "text/plain": [
       "<Figure size 1440x720 with 1 Axes>"
      ]
     },
     "metadata": {
      "needs_background": "light"
     },
     "output_type": "display_data"
    }
   ],
   "source": [
    "# BAR CHART SHWING THE DISTRIBUTION OF TRANSACTION TYPE \n",
    "fraud_pie= online_fraud['type'].value_counts(normalize = True).plot(kind= 'bar',figsize = (20,10))\n",
    "fraud_pie"
   ]
  },
  {
   "cell_type": "code",
   "execution_count": 16,
   "id": "aa1f2da7",
   "metadata": {},
   "outputs": [
    {
     "data": {
      "text/plain": [
       "<AxesSubplot:xlabel='isFraud', ylabel='count'>"
      ]
     },
     "execution_count": 16,
     "metadata": {},
     "output_type": "execute_result"
    },
    {
     "data": {
      "image/png": "[encoded data removed]",
      "text/plain": [
       "<Figure size 432x288 with 1 Axes>"
      ]
     },
     "metadata": {
      "needs_background": "light"
     },
     "output_type": "display_data"
    }
   ],
   "source": [
    "# to check for a type of transaction with fraud\n",
    "large_to_small = online_fraud.groupby('isFraud').size().sort_values().index[::-1]\n",
    "sns.countplot(data=online_fraud, x=\"isFraud\", hue=\"type\",order =large_to_small)"
   ]
  },
  {
   "cell_type": "code",
   "execution_count": 17,
   "id": "3bb0a545",
   "metadata": {},
   "outputs": [
    {
     "data": {
      "image/png": "[encoded data removed]",
      "text/plain": [
       "<Figure size 1440x720 with 1 Axes>"
      ]
     },
     "metadata": {},
     "output_type": "display_data"
    }
   ],
   "source": [
    "#  A PIE CHART SHOWING FRADULENT TRANSACTIONS TO LEGIT TRANSACTION IN PERCENTAGE\n",
    "fraud= online_fraud['isFraud'].value_counts().plot(kind = \"pie\",figsize =(20,10),autopct=\"%.2f\")\n",
    "plt.title(\"percentage of legit transaction to fradulent transaction\")\n",
    "fraud\n",
    "plt.show()"
   ]
  },
  {
   "cell_type": "code",
   "execution_count": 18,
   "id": "71d9d4c1",
   "metadata": {},
   "outputs": [],
   "source": [
    "# TO CHECKTHE NUMBER OF LEGIT AND  FRAUDULENT TRANSACTION  \n",
    "legit_transactions=online_fraud[online_fraud['isFraud']==0]\n",
    "fraud_transaction= online_fraud[online_fraud['isFraud']==1]"
   ]
  },
  {
   "cell_type": "code",
   "execution_count": 19,
   "id": "cf7c7e2d",
   "metadata": {},
   "outputs": [
    {
     "name": "stdout",
     "output_type": "stream",
     "text": [
      "(1047433, 10)\n",
      "(1142, 10)\n"
     ]
    }
   ],
   "source": [
    "print(legit_transactions.shape)\n",
    "print(fraud_transaction.shape)"
   ]
  },
  {
   "cell_type": "code",
   "execution_count": 20,
   "id": "720cec8f",
   "metadata": {},
   "outputs": [
    {
     "data": {
      "text/plain": [
       "count    1047433\n",
       "mean      157539\n",
       "std       254188\n",
       "min            0\n",
       "25%        12134\n",
       "50%        76214\n",
       "75%       213492\n",
       "max      6419835\n",
       "Name: amount, dtype: int32"
      ]
     },
     "execution_count": 20,
     "metadata": {},
     "output_type": "execute_result"
    }
   ],
   "source": [
    "# DESCRIPTIVE STATISTICS MEASURE FOR LEGIT TRANSACTION  \n",
    "legit_transactions.amount.describe().astype(int)"
   ]
  },
  {
   "cell_type": "code",
   "execution_count": 21,
   "id": "430b46cf",
   "metadata": {},
   "outputs": [
    {
     "data": {
      "text/plain": [
       "count        1142\n",
       "mean      1192628\n",
       "std       2030598\n",
       "min           119\n",
       "25%         86070\n",
       "50%        353179\n",
       "75%       1248759\n",
       "max      10000000\n",
       "Name: amount, dtype: int32"
      ]
     },
     "execution_count": 21,
     "metadata": {},
     "output_type": "execute_result"
    }
   ],
   "source": [
    "# DESCRIPTIVE STATISTICS MEASURE FOR FRAUDULENT TRANSACTION \n",
    "fraud_transaction.amount.describe().astype(int)"
   ]
  },
  {
   "cell_type": "code",
   "execution_count": 22,
   "id": "25bc72d1",
   "metadata": {},
   "outputs": [
    {
     "data": {
      "text/html": [
       "<div>\n",
       "<style scoped>\n",
       "    .dataframe tbody tr th:only-of-type {\n",
       "        vertical-align: middle;\n",
       "    }\n",
       "\n",
       "    .dataframe tbody tr th {\n",
       "        vertical-align: top;\n",
       "    }\n",
       "\n",
       "    .dataframe thead th {\n",
       "        text-align: right;\n",
       "    }\n",
       "</style>\n",
       "<table border=\"1\" class=\"dataframe\">\n",
       "  <thead>\n",
       "    <tr style=\"text-align: right;\">\n",
       "      <th></th>\n",
       "      <th>step</th>\n",
       "      <th>amount</th>\n",
       "      <th>oldbalanceOrg</th>\n",
       "      <th>newbalanceOrig</th>\n",
       "      <th>oldbalanceDest</th>\n",
       "      <th>newbalanceDest</th>\n",
       "    </tr>\n",
       "    <tr>\n",
       "      <th>isFraud</th>\n",
       "      <th></th>\n",
       "      <th></th>\n",
       "      <th></th>\n",
       "      <th></th>\n",
       "      <th></th>\n",
       "      <th></th>\n",
       "    </tr>\n",
       "  </thead>\n",
       "  <tbody>\n",
       "    <tr>\n",
       "      <th>0</th>\n",
       "      <td>26</td>\n",
       "      <td>157539</td>\n",
       "      <td>873633</td>\n",
       "      <td>894746</td>\n",
       "      <td>978732</td>\n",
       "      <td>1114237</td>\n",
       "    </tr>\n",
       "    <tr>\n",
       "      <th>1</th>\n",
       "      <td>48</td>\n",
       "      <td>1192628</td>\n",
       "      <td>1218636</td>\n",
       "      <td>33944</td>\n",
       "      <td>452866</td>\n",
       "      <td>1077940</td>\n",
       "    </tr>\n",
       "  </tbody>\n",
       "</table>\n",
       "</div>"
      ],
      "text/plain": [
       "         step   amount  oldbalanceOrg  newbalanceOrig  oldbalanceDest  \\\n",
       "isFraud                                                                 \n",
       "0          26   157539         873633          894746          978732   \n",
       "1          48  1192628        1218636           33944          452866   \n",
       "\n",
       "         newbalanceDest  \n",
       "isFraud                  \n",
       "0               1114237  \n",
       "1               1077940  "
      ]
     },
     "execution_count": 22,
     "metadata": {},
     "output_type": "execute_result"
    }
   ],
   "source": [
    "# TO COMPARE THE VALUES OF BOTH TRANSACTION\n",
    "online_fraud.groupby('isFraud').mean().astype(int)"
   ]
  },
  {
   "cell_type": "markdown",
   "id": "ca87dd14",
   "metadata": {},
   "source": [
    "# WE HAVE TO DEAL WITH THE UNEVEN DISTRIBUTION OF DATA USING UNDER SAMPLING:\n",
    "what we do here is to built a sample dataset conatining similar distribution of legit and fraudulent transaction .\n",
    "Number of fraud transaction is 1142.\n",
    "We have to take 1142 transactions of the legit so that the transaction will be evenly distributed\n"
   ]
  },
  {
   "cell_type": "code",
   "execution_count": 23,
   "id": "4a1c0352",
   "metadata": {},
   "outputs": [],
   "source": [
    "legit_new_transactions=legit_transactions.sample(n=1142)"
   ]
  },
  {
   "cell_type": "code",
   "execution_count": 24,
   "id": "002c3414",
   "metadata": {},
   "outputs": [],
   "source": [
    "# concatanant the two data set\n",
    "final_sample_set = pd.concat([legit_new_transactions,fraud_transaction],axis = 0)"
   ]
  },
  {
   "cell_type": "code",
   "execution_count": 25,
   "id": "d55d4db2",
   "metadata": {},
   "outputs": [
    {
     "data": {
      "text/html": [
       "<div>\n",
       "<style scoped>\n",
       "    .dataframe tbody tr th:only-of-type {\n",
       "        vertical-align: middle;\n",
       "    }\n",
       "\n",
       "    .dataframe tbody tr th {\n",
       "        vertical-align: top;\n",
       "    }\n",
       "\n",
       "    .dataframe thead th {\n",
       "        text-align: right;\n",
       "    }\n",
       "</style>\n",
       "<table border=\"1\" class=\"dataframe\">\n",
       "  <thead>\n",
       "    <tr style=\"text-align: right;\">\n",
       "      <th></th>\n",
       "      <th>step</th>\n",
       "      <th>type</th>\n",
       "      <th>amount</th>\n",
       "      <th>nameOrig</th>\n",
       "      <th>oldbalanceOrg</th>\n",
       "      <th>newbalanceOrig</th>\n",
       "      <th>nameDest</th>\n",
       "      <th>oldbalanceDest</th>\n",
       "      <th>newbalanceDest</th>\n",
       "      <th>isFraud</th>\n",
       "    </tr>\n",
       "  </thead>\n",
       "  <tbody>\n",
       "    <tr>\n",
       "      <th>488376</th>\n",
       "      <td>19</td>\n",
       "      <td>PAYMENT</td>\n",
       "      <td>12425.07</td>\n",
       "      <td>C653507306</td>\n",
       "      <td>381753.55</td>\n",
       "      <td>369328.48</td>\n",
       "      <td>M115947583</td>\n",
       "      <td>0.00</td>\n",
       "      <td>0.00</td>\n",
       "      <td>0</td>\n",
       "    </tr>\n",
       "    <tr>\n",
       "      <th>848937</th>\n",
       "      <td>41</td>\n",
       "      <td>CASH_IN</td>\n",
       "      <td>177837.70</td>\n",
       "      <td>C1604476259</td>\n",
       "      <td>20635.00</td>\n",
       "      <td>198472.70</td>\n",
       "      <td>C861638092</td>\n",
       "      <td>173667.65</td>\n",
       "      <td>0.00</td>\n",
       "      <td>0</td>\n",
       "    </tr>\n",
       "    <tr>\n",
       "      <th>752471</th>\n",
       "      <td>38</td>\n",
       "      <td>CASH_OUT</td>\n",
       "      <td>243538.24</td>\n",
       "      <td>C1761700787</td>\n",
       "      <td>0.00</td>\n",
       "      <td>0.00</td>\n",
       "      <td>C1322450827</td>\n",
       "      <td>2930875.22</td>\n",
       "      <td>2801037.24</td>\n",
       "      <td>0</td>\n",
       "    </tr>\n",
       "    <tr>\n",
       "      <th>877899</th>\n",
       "      <td>42</td>\n",
       "      <td>CASH_OUT</td>\n",
       "      <td>209280.64</td>\n",
       "      <td>C651986913</td>\n",
       "      <td>170768.00</td>\n",
       "      <td>0.00</td>\n",
       "      <td>C2079332573</td>\n",
       "      <td>0.00</td>\n",
       "      <td>209280.64</td>\n",
       "      <td>0</td>\n",
       "    </tr>\n",
       "    <tr>\n",
       "      <th>760249</th>\n",
       "      <td>38</td>\n",
       "      <td>CASH_IN</td>\n",
       "      <td>34293.60</td>\n",
       "      <td>C1766839883</td>\n",
       "      <td>598375.95</td>\n",
       "      <td>632669.54</td>\n",
       "      <td>C104327980</td>\n",
       "      <td>2083264.81</td>\n",
       "      <td>2104892.63</td>\n",
       "      <td>0</td>\n",
       "    </tr>\n",
       "  </tbody>\n",
       "</table>\n",
       "</div>"
      ],
      "text/plain": [
       "        step      type     amount     nameOrig  oldbalanceOrg  newbalanceOrig  \\\n",
       "488376    19   PAYMENT   12425.07   C653507306      381753.55       369328.48   \n",
       "848937    41   CASH_IN  177837.70  C1604476259       20635.00       198472.70   \n",
       "752471    38  CASH_OUT  243538.24  C1761700787           0.00            0.00   \n",
       "877899    42  CASH_OUT  209280.64   C651986913      170768.00            0.00   \n",
       "760249    38   CASH_IN   34293.60  C1766839883      598375.95       632669.54   \n",
       "\n",
       "           nameDest  oldbalanceDest  newbalanceDest  isFraud  \n",
       "488376   M115947583            0.00            0.00        0  \n",
       "848937   C861638092       173667.65            0.00        0  \n",
       "752471  C1322450827      2930875.22      2801037.24        0  \n",
       "877899  C2079332573            0.00       209280.64        0  \n",
       "760249   C104327980      2083264.81      2104892.63        0  "
      ]
     },
     "execution_count": 25,
     "metadata": {},
     "output_type": "execute_result"
    }
   ],
   "source": [
    "# checking of the first rows of the final sample data\n",
    "final_sample_set.head()"
   ]
  },
  {
   "cell_type": "code",
   "execution_count": 26,
   "id": "38c48604",
   "metadata": {},
   "outputs": [
    {
     "data": {
      "text/html": [
       "<div>\n",
       "<style scoped>\n",
       "    .dataframe tbody tr th:only-of-type {\n",
       "        vertical-align: middle;\n",
       "    }\n",
       "\n",
       "    .dataframe tbody tr th {\n",
       "        vertical-align: top;\n",
       "    }\n",
       "\n",
       "    .dataframe thead th {\n",
       "        text-align: right;\n",
       "    }\n",
       "</style>\n",
       "<table border=\"1\" class=\"dataframe\">\n",
       "  <thead>\n",
       "    <tr style=\"text-align: right;\">\n",
       "      <th></th>\n",
       "      <th>step</th>\n",
       "      <th>type</th>\n",
       "      <th>amount</th>\n",
       "      <th>nameOrig</th>\n",
       "      <th>oldbalanceOrg</th>\n",
       "      <th>newbalanceOrig</th>\n",
       "      <th>nameDest</th>\n",
       "      <th>oldbalanceDest</th>\n",
       "      <th>newbalanceDest</th>\n",
       "      <th>isFraud</th>\n",
       "    </tr>\n",
       "  </thead>\n",
       "  <tbody>\n",
       "    <tr>\n",
       "      <th>1047888</th>\n",
       "      <td>95</td>\n",
       "      <td>CASH_OUT</td>\n",
       "      <td>56745.14</td>\n",
       "      <td>C526144262</td>\n",
       "      <td>56745.14</td>\n",
       "      <td>0.0</td>\n",
       "      <td>C79051264</td>\n",
       "      <td>51433.88</td>\n",
       "      <td>108179.02</td>\n",
       "      <td>1</td>\n",
       "    </tr>\n",
       "    <tr>\n",
       "      <th>1048221</th>\n",
       "      <td>95</td>\n",
       "      <td>TRANSFER</td>\n",
       "      <td>33676.59</td>\n",
       "      <td>C732111322</td>\n",
       "      <td>33676.59</td>\n",
       "      <td>0.0</td>\n",
       "      <td>C1140210295</td>\n",
       "      <td>0.00</td>\n",
       "      <td>0.00</td>\n",
       "      <td>1</td>\n",
       "    </tr>\n",
       "    <tr>\n",
       "      <th>1048222</th>\n",
       "      <td>95</td>\n",
       "      <td>CASH_OUT</td>\n",
       "      <td>33676.59</td>\n",
       "      <td>C1000086512</td>\n",
       "      <td>33676.59</td>\n",
       "      <td>0.0</td>\n",
       "      <td>C1759363094</td>\n",
       "      <td>0.00</td>\n",
       "      <td>33676.59</td>\n",
       "      <td>1</td>\n",
       "    </tr>\n",
       "    <tr>\n",
       "      <th>1048323</th>\n",
       "      <td>95</td>\n",
       "      <td>TRANSFER</td>\n",
       "      <td>87999.25</td>\n",
       "      <td>C927181710</td>\n",
       "      <td>87999.25</td>\n",
       "      <td>0.0</td>\n",
       "      <td>C757947873</td>\n",
       "      <td>0.00</td>\n",
       "      <td>0.00</td>\n",
       "      <td>1</td>\n",
       "    </tr>\n",
       "    <tr>\n",
       "      <th>1048324</th>\n",
       "      <td>95</td>\n",
       "      <td>CASH_OUT</td>\n",
       "      <td>87999.25</td>\n",
       "      <td>C409531429</td>\n",
       "      <td>87999.25</td>\n",
       "      <td>0.0</td>\n",
       "      <td>C1827219533</td>\n",
       "      <td>0.00</td>\n",
       "      <td>87999.25</td>\n",
       "      <td>1</td>\n",
       "    </tr>\n",
       "  </tbody>\n",
       "</table>\n",
       "</div>"
      ],
      "text/plain": [
       "         step      type    amount     nameOrig  oldbalanceOrg  newbalanceOrig  \\\n",
       "1047888    95  CASH_OUT  56745.14   C526144262       56745.14             0.0   \n",
       "1048221    95  TRANSFER  33676.59   C732111322       33676.59             0.0   \n",
       "1048222    95  CASH_OUT  33676.59  C1000086512       33676.59             0.0   \n",
       "1048323    95  TRANSFER  87999.25   C927181710       87999.25             0.0   \n",
       "1048324    95  CASH_OUT  87999.25   C409531429       87999.25             0.0   \n",
       "\n",
       "            nameDest  oldbalanceDest  newbalanceDest  isFraud  \n",
       "1047888    C79051264        51433.88       108179.02        1  \n",
       "1048221  C1140210295            0.00            0.00        1  \n",
       "1048222  C1759363094            0.00        33676.59        1  \n",
       "1048323   C757947873            0.00            0.00        1  \n",
       "1048324  C1827219533            0.00        87999.25        1  "
      ]
     },
     "execution_count": 26,
     "metadata": {},
     "output_type": "execute_result"
    }
   ],
   "source": [
    "# checking the last five rows of the final data set\n",
    "final_sample_set.tail()"
   ]
  },
  {
   "cell_type": "code",
   "execution_count": 27,
   "id": "63a2e4a3",
   "metadata": {},
   "outputs": [
    {
     "data": {
      "text/plain": [
       "0    1142\n",
       "1    1142\n",
       "Name: isFraud, dtype: int64"
      ]
     },
     "execution_count": 27,
     "metadata": {},
     "output_type": "execute_result"
    }
   ],
   "source": [
    "# TO SHOW EVEN DISTRIBUTION OF FRAUDULENT AND LEGIT TRANSACTION\n",
    "final_sample_set['isFraud'].value_counts()"
   ]
  },
  {
   "cell_type": "code",
   "execution_count": 28,
   "id": "0ba004e8",
   "metadata": {},
   "outputs": [
    {
     "data": {
      "text/html": [
       "<div>\n",
       "<style scoped>\n",
       "    .dataframe tbody tr th:only-of-type {\n",
       "        vertical-align: middle;\n",
       "    }\n",
       "\n",
       "    .dataframe tbody tr th {\n",
       "        vertical-align: top;\n",
       "    }\n",
       "\n",
       "    .dataframe thead th {\n",
       "        text-align: right;\n",
       "    }\n",
       "</style>\n",
       "<table border=\"1\" class=\"dataframe\">\n",
       "  <thead>\n",
       "    <tr style=\"text-align: right;\">\n",
       "      <th></th>\n",
       "      <th>step</th>\n",
       "      <th>amount</th>\n",
       "      <th>oldbalanceOrg</th>\n",
       "      <th>newbalanceOrig</th>\n",
       "      <th>oldbalanceDest</th>\n",
       "      <th>newbalanceDest</th>\n",
       "    </tr>\n",
       "    <tr>\n",
       "      <th>isFraud</th>\n",
       "      <th></th>\n",
       "      <th></th>\n",
       "      <th></th>\n",
       "      <th></th>\n",
       "      <th></th>\n",
       "      <th></th>\n",
       "    </tr>\n",
       "  </thead>\n",
       "  <tbody>\n",
       "    <tr>\n",
       "      <th>0</th>\n",
       "      <td>27</td>\n",
       "      <td>150045</td>\n",
       "      <td>915888</td>\n",
       "      <td>937689</td>\n",
       "      <td>1040193</td>\n",
       "      <td>1167356</td>\n",
       "    </tr>\n",
       "    <tr>\n",
       "      <th>1</th>\n",
       "      <td>48</td>\n",
       "      <td>1192628</td>\n",
       "      <td>1218636</td>\n",
       "      <td>33944</td>\n",
       "      <td>452866</td>\n",
       "      <td>1077940</td>\n",
       "    </tr>\n",
       "  </tbody>\n",
       "</table>\n",
       "</div>"
      ],
      "text/plain": [
       "         step   amount  oldbalanceOrg  newbalanceOrig  oldbalanceDest  \\\n",
       "isFraud                                                                 \n",
       "0          27   150045         915888          937689         1040193   \n",
       "1          48  1192628        1218636           33944          452866   \n",
       "\n",
       "         newbalanceDest  \n",
       "isFraud                  \n",
       "0               1167356  \n",
       "1               1077940  "
      ]
     },
     "execution_count": 28,
     "metadata": {},
     "output_type": "execute_result"
    }
   ],
   "source": [
    "# TO COMPARE THE VALUES OF BOTH TRANSACTION FOR THE FINAL SAMPLE DATA\n",
    "final_sample_set.groupby('isFraud').mean().astype(int)"
   ]
  },
  {
   "cell_type": "markdown",
   "id": "8d411b7a",
   "metadata": {},
   "source": [
    "# Feature Engineering\n",
    "In this stage we prepare the data for modelling. It's all about selecting, manipulating and transforming data into features that your machine learning algorithms can work better with.\n",
    "\n",
    "First, replace some values to something you can more easily understand\n",
    "\n",
    "TODO: Encode values in the data set\n",
    "\n"
   ]
  },
  {
   "cell_type": "code",
   "execution_count": 29,
   "id": "0f17b0dc",
   "metadata": {},
   "outputs": [
    {
     "data": {
      "text/html": [
       "<div>\n",
       "<style scoped>\n",
       "    .dataframe tbody tr th:only-of-type {\n",
       "        vertical-align: middle;\n",
       "    }\n",
       "\n",
       "    .dataframe tbody tr th {\n",
       "        vertical-align: top;\n",
       "    }\n",
       "\n",
       "    .dataframe thead th {\n",
       "        text-align: right;\n",
       "    }\n",
       "</style>\n",
       "<table border=\"1\" class=\"dataframe\">\n",
       "  <thead>\n",
       "    <tr style=\"text-align: right;\">\n",
       "      <th></th>\n",
       "      <th>step</th>\n",
       "      <th>type</th>\n",
       "      <th>amount</th>\n",
       "      <th>nameOrig</th>\n",
       "      <th>oldbalanceOrg</th>\n",
       "      <th>newbalanceOrig</th>\n",
       "      <th>nameDest</th>\n",
       "      <th>oldbalanceDest</th>\n",
       "      <th>newbalanceDest</th>\n",
       "      <th>isFraud</th>\n",
       "    </tr>\n",
       "  </thead>\n",
       "  <tbody>\n",
       "    <tr>\n",
       "      <th>488376</th>\n",
       "      <td>19</td>\n",
       "      <td>PAYMENT</td>\n",
       "      <td>12425.07</td>\n",
       "      <td>C653507306</td>\n",
       "      <td>381753.55</td>\n",
       "      <td>369328.48</td>\n",
       "      <td>M115947583</td>\n",
       "      <td>0.00</td>\n",
       "      <td>0.00</td>\n",
       "      <td>0</td>\n",
       "    </tr>\n",
       "    <tr>\n",
       "      <th>848937</th>\n",
       "      <td>41</td>\n",
       "      <td>CASH_IN</td>\n",
       "      <td>177837.70</td>\n",
       "      <td>C1604476259</td>\n",
       "      <td>20635.00</td>\n",
       "      <td>198472.70</td>\n",
       "      <td>C861638092</td>\n",
       "      <td>173667.65</td>\n",
       "      <td>0.00</td>\n",
       "      <td>0</td>\n",
       "    </tr>\n",
       "    <tr>\n",
       "      <th>752471</th>\n",
       "      <td>38</td>\n",
       "      <td>CASH_OUT</td>\n",
       "      <td>243538.24</td>\n",
       "      <td>C1761700787</td>\n",
       "      <td>0.00</td>\n",
       "      <td>0.00</td>\n",
       "      <td>C1322450827</td>\n",
       "      <td>2930875.22</td>\n",
       "      <td>2801037.24</td>\n",
       "      <td>0</td>\n",
       "    </tr>\n",
       "    <tr>\n",
       "      <th>877899</th>\n",
       "      <td>42</td>\n",
       "      <td>CASH_OUT</td>\n",
       "      <td>209280.64</td>\n",
       "      <td>C651986913</td>\n",
       "      <td>170768.00</td>\n",
       "      <td>0.00</td>\n",
       "      <td>C2079332573</td>\n",
       "      <td>0.00</td>\n",
       "      <td>209280.64</td>\n",
       "      <td>0</td>\n",
       "    </tr>\n",
       "    <tr>\n",
       "      <th>760249</th>\n",
       "      <td>38</td>\n",
       "      <td>CASH_IN</td>\n",
       "      <td>34293.60</td>\n",
       "      <td>C1766839883</td>\n",
       "      <td>598375.95</td>\n",
       "      <td>632669.54</td>\n",
       "      <td>C104327980</td>\n",
       "      <td>2083264.81</td>\n",
       "      <td>2104892.63</td>\n",
       "      <td>0</td>\n",
       "    </tr>\n",
       "  </tbody>\n",
       "</table>\n",
       "</div>"
      ],
      "text/plain": [
       "        step      type     amount     nameOrig  oldbalanceOrg  newbalanceOrig  \\\n",
       "488376    19   PAYMENT   12425.07   C653507306      381753.55       369328.48   \n",
       "848937    41   CASH_IN  177837.70  C1604476259       20635.00       198472.70   \n",
       "752471    38  CASH_OUT  243538.24  C1761700787           0.00            0.00   \n",
       "877899    42  CASH_OUT  209280.64   C651986913      170768.00            0.00   \n",
       "760249    38   CASH_IN   34293.60  C1766839883      598375.95       632669.54   \n",
       "\n",
       "           nameDest  oldbalanceDest  newbalanceDest  isFraud  \n",
       "488376   M115947583            0.00            0.00        0  \n",
       "848937   C861638092       173667.65            0.00        0  \n",
       "752471  C1322450827      2930875.22      2801037.24        0  \n",
       "877899  C2079332573            0.00       209280.64        0  \n",
       "760249   C104327980      2083264.81      2104892.63        0  "
      ]
     },
     "execution_count": 29,
     "metadata": {},
     "output_type": "execute_result"
    }
   ],
   "source": [
    "final_sample_set.head()"
   ]
  },
  {
   "cell_type": "markdown",
   "id": "5f43c1ed",
   "metadata": {},
   "source": [
    "# one hot encoding"
   ]
  },
  {
   "cell_type": "code",
   "execution_count": 30,
   "id": "9a03440d",
   "metadata": {},
   "outputs": [
    {
     "data": {
      "text/html": [
       "<div>\n",
       "<style scoped>\n",
       "    .dataframe tbody tr th:only-of-type {\n",
       "        vertical-align: middle;\n",
       "    }\n",
       "\n",
       "    .dataframe tbody tr th {\n",
       "        vertical-align: top;\n",
       "    }\n",
       "\n",
       "    .dataframe thead th {\n",
       "        text-align: right;\n",
       "    }\n",
       "</style>\n",
       "<table border=\"1\" class=\"dataframe\">\n",
       "  <thead>\n",
       "    <tr style=\"text-align: right;\">\n",
       "      <th></th>\n",
       "      <th>type</th>\n",
       "    </tr>\n",
       "  </thead>\n",
       "  <tbody>\n",
       "    <tr>\n",
       "      <th>488376</th>\n",
       "      <td>PAYMENT</td>\n",
       "    </tr>\n",
       "    <tr>\n",
       "      <th>848937</th>\n",
       "      <td>CASH_IN</td>\n",
       "    </tr>\n",
       "    <tr>\n",
       "      <th>752471</th>\n",
       "      <td>CASH_OUT</td>\n",
       "    </tr>\n",
       "    <tr>\n",
       "      <th>877899</th>\n",
       "      <td>CASH_OUT</td>\n",
       "    </tr>\n",
       "    <tr>\n",
       "      <th>760249</th>\n",
       "      <td>CASH_IN</td>\n",
       "    </tr>\n",
       "    <tr>\n",
       "      <th>...</th>\n",
       "      <td>...</td>\n",
       "    </tr>\n",
       "    <tr>\n",
       "      <th>1047888</th>\n",
       "      <td>CASH_OUT</td>\n",
       "    </tr>\n",
       "    <tr>\n",
       "      <th>1048221</th>\n",
       "      <td>TRANSFER</td>\n",
       "    </tr>\n",
       "    <tr>\n",
       "      <th>1048222</th>\n",
       "      <td>CASH_OUT</td>\n",
       "    </tr>\n",
       "    <tr>\n",
       "      <th>1048323</th>\n",
       "      <td>TRANSFER</td>\n",
       "    </tr>\n",
       "    <tr>\n",
       "      <th>1048324</th>\n",
       "      <td>CASH_OUT</td>\n",
       "    </tr>\n",
       "  </tbody>\n",
       "</table>\n",
       "<p>2284 rows × 1 columns</p>\n",
       "</div>"
      ],
      "text/plain": [
       "             type\n",
       "488376    PAYMENT\n",
       "848937    CASH_IN\n",
       "752471   CASH_OUT\n",
       "877899   CASH_OUT\n",
       "760249    CASH_IN\n",
       "...           ...\n",
       "1047888  CASH_OUT\n",
       "1048221  TRANSFER\n",
       "1048222  CASH_OUT\n",
       "1048323  TRANSFER\n",
       "1048324  CASH_OUT\n",
       "\n",
       "[2284 rows x 1 columns]"
      ]
     },
     "execution_count": 30,
     "metadata": {},
     "output_type": "execute_result"
    }
   ],
   "source": [
    "categorical  = ['type']\n",
    "final_sample_set[categorical]"
   ]
  },
  {
   "cell_type": "code",
   "execution_count": 31,
   "id": "99ee5662",
   "metadata": {},
   "outputs": [
    {
     "name": "stdout",
     "output_type": "stream",
     "text": [
      "(2284, 5)\n"
     ]
    },
    {
     "data": {
      "text/html": [
       "<div>\n",
       "<style scoped>\n",
       "    .dataframe tbody tr th:only-of-type {\n",
       "        vertical-align: middle;\n",
       "    }\n",
       "\n",
       "    .dataframe tbody tr th {\n",
       "        vertical-align: top;\n",
       "    }\n",
       "\n",
       "    .dataframe thead th {\n",
       "        text-align: right;\n",
       "    }\n",
       "</style>\n",
       "<table border=\"1\" class=\"dataframe\">\n",
       "  <thead>\n",
       "    <tr style=\"text-align: right;\">\n",
       "      <th></th>\n",
       "      <th>type_CASH_IN</th>\n",
       "      <th>type_CASH_OUT</th>\n",
       "      <th>type_DEBIT</th>\n",
       "      <th>type_PAYMENT</th>\n",
       "      <th>type_TRANSFER</th>\n",
       "    </tr>\n",
       "  </thead>\n",
       "  <tbody>\n",
       "    <tr>\n",
       "      <th>488376</th>\n",
       "      <td>0</td>\n",
       "      <td>0</td>\n",
       "      <td>0</td>\n",
       "      <td>1</td>\n",
       "      <td>0</td>\n",
       "    </tr>\n",
       "    <tr>\n",
       "      <th>848937</th>\n",
       "      <td>1</td>\n",
       "      <td>0</td>\n",
       "      <td>0</td>\n",
       "      <td>0</td>\n",
       "      <td>0</td>\n",
       "    </tr>\n",
       "    <tr>\n",
       "      <th>752471</th>\n",
       "      <td>0</td>\n",
       "      <td>1</td>\n",
       "      <td>0</td>\n",
       "      <td>0</td>\n",
       "      <td>0</td>\n",
       "    </tr>\n",
       "    <tr>\n",
       "      <th>877899</th>\n",
       "      <td>0</td>\n",
       "      <td>1</td>\n",
       "      <td>0</td>\n",
       "      <td>0</td>\n",
       "      <td>0</td>\n",
       "    </tr>\n",
       "    <tr>\n",
       "      <th>760249</th>\n",
       "      <td>1</td>\n",
       "      <td>0</td>\n",
       "      <td>0</td>\n",
       "      <td>0</td>\n",
       "      <td>0</td>\n",
       "    </tr>\n",
       "  </tbody>\n",
       "</table>\n",
       "</div>"
      ],
      "text/plain": [
       "        type_CASH_IN  type_CASH_OUT  type_DEBIT  type_PAYMENT  type_TRANSFER\n",
       "488376             0              0           0             1              0\n",
       "848937             1              0           0             0              0\n",
       "752471             0              1           0             0              0\n",
       "877899             0              1           0             0              0\n",
       "760249             1              0           0             0              0"
      ]
     },
     "execution_count": 31,
     "metadata": {},
     "output_type": "execute_result"
    }
   ],
   "source": [
    "categorical_dummies = pd.get_dummies(final_sample_set[categorical])\n",
    "print(categorical_dummies.shape)\n",
    "categorical_dummies.head()"
   ]
  },
  {
   "cell_type": "code",
   "execution_count": 32,
   "id": "d3e5f308",
   "metadata": {},
   "outputs": [
    {
     "data": {
      "text/html": [
       "<div>\n",
       "<style scoped>\n",
       "    .dataframe tbody tr th:only-of-type {\n",
       "        vertical-align: middle;\n",
       "    }\n",
       "\n",
       "    .dataframe tbody tr th {\n",
       "        vertical-align: top;\n",
       "    }\n",
       "\n",
       "    .dataframe thead th {\n",
       "        text-align: right;\n",
       "    }\n",
       "</style>\n",
       "<table border=\"1\" class=\"dataframe\">\n",
       "  <thead>\n",
       "    <tr style=\"text-align: right;\">\n",
       "      <th></th>\n",
       "      <th>step</th>\n",
       "      <th>type</th>\n",
       "      <th>amount</th>\n",
       "      <th>nameOrig</th>\n",
       "      <th>oldbalanceOrg</th>\n",
       "      <th>newbalanceOrig</th>\n",
       "      <th>nameDest</th>\n",
       "      <th>oldbalanceDest</th>\n",
       "      <th>newbalanceDest</th>\n",
       "      <th>isFraud</th>\n",
       "      <th>type_CASH_IN</th>\n",
       "      <th>type_CASH_OUT</th>\n",
       "      <th>type_DEBIT</th>\n",
       "      <th>type_PAYMENT</th>\n",
       "      <th>type_TRANSFER</th>\n",
       "    </tr>\n",
       "  </thead>\n",
       "  <tbody>\n",
       "    <tr>\n",
       "      <th>488376</th>\n",
       "      <td>19</td>\n",
       "      <td>PAYMENT</td>\n",
       "      <td>12425.07</td>\n",
       "      <td>C653507306</td>\n",
       "      <td>381753.55</td>\n",
       "      <td>369328.48</td>\n",
       "      <td>M115947583</td>\n",
       "      <td>0.00</td>\n",
       "      <td>0.00</td>\n",
       "      <td>0</td>\n",
       "      <td>0</td>\n",
       "      <td>0</td>\n",
       "      <td>0</td>\n",
       "      <td>1</td>\n",
       "      <td>0</td>\n",
       "    </tr>\n",
       "    <tr>\n",
       "      <th>848937</th>\n",
       "      <td>41</td>\n",
       "      <td>CASH_IN</td>\n",
       "      <td>177837.70</td>\n",
       "      <td>C1604476259</td>\n",
       "      <td>20635.00</td>\n",
       "      <td>198472.70</td>\n",
       "      <td>C861638092</td>\n",
       "      <td>173667.65</td>\n",
       "      <td>0.00</td>\n",
       "      <td>0</td>\n",
       "      <td>1</td>\n",
       "      <td>0</td>\n",
       "      <td>0</td>\n",
       "      <td>0</td>\n",
       "      <td>0</td>\n",
       "    </tr>\n",
       "    <tr>\n",
       "      <th>752471</th>\n",
       "      <td>38</td>\n",
       "      <td>CASH_OUT</td>\n",
       "      <td>243538.24</td>\n",
       "      <td>C1761700787</td>\n",
       "      <td>0.00</td>\n",
       "      <td>0.00</td>\n",
       "      <td>C1322450827</td>\n",
       "      <td>2930875.22</td>\n",
       "      <td>2801037.24</td>\n",
       "      <td>0</td>\n",
       "      <td>0</td>\n",
       "      <td>1</td>\n",
       "      <td>0</td>\n",
       "      <td>0</td>\n",
       "      <td>0</td>\n",
       "    </tr>\n",
       "    <tr>\n",
       "      <th>877899</th>\n",
       "      <td>42</td>\n",
       "      <td>CASH_OUT</td>\n",
       "      <td>209280.64</td>\n",
       "      <td>C651986913</td>\n",
       "      <td>170768.00</td>\n",
       "      <td>0.00</td>\n",
       "      <td>C2079332573</td>\n",
       "      <td>0.00</td>\n",
       "      <td>209280.64</td>\n",
       "      <td>0</td>\n",
       "      <td>0</td>\n",
       "      <td>1</td>\n",
       "      <td>0</td>\n",
       "      <td>0</td>\n",
       "      <td>0</td>\n",
       "    </tr>\n",
       "    <tr>\n",
       "      <th>760249</th>\n",
       "      <td>38</td>\n",
       "      <td>CASH_IN</td>\n",
       "      <td>34293.60</td>\n",
       "      <td>C1766839883</td>\n",
       "      <td>598375.95</td>\n",
       "      <td>632669.54</td>\n",
       "      <td>C104327980</td>\n",
       "      <td>2083264.81</td>\n",
       "      <td>2104892.63</td>\n",
       "      <td>0</td>\n",
       "      <td>1</td>\n",
       "      <td>0</td>\n",
       "      <td>0</td>\n",
       "      <td>0</td>\n",
       "      <td>0</td>\n",
       "    </tr>\n",
       "  </tbody>\n",
       "</table>\n",
       "</div>"
      ],
      "text/plain": [
       "        step      type     amount     nameOrig  oldbalanceOrg  newbalanceOrig  \\\n",
       "488376    19   PAYMENT   12425.07   C653507306      381753.55       369328.48   \n",
       "848937    41   CASH_IN  177837.70  C1604476259       20635.00       198472.70   \n",
       "752471    38  CASH_OUT  243538.24  C1761700787           0.00            0.00   \n",
       "877899    42  CASH_OUT  209280.64   C651986913      170768.00            0.00   \n",
       "760249    38   CASH_IN   34293.60  C1766839883      598375.95       632669.54   \n",
       "\n",
       "           nameDest  oldbalanceDest  newbalanceDest  isFraud  type_CASH_IN  \\\n",
       "488376   M115947583            0.00            0.00        0             0   \n",
       "848937   C861638092       173667.65            0.00        0             1   \n",
       "752471  C1322450827      2930875.22      2801037.24        0             0   \n",
       "877899  C2079332573            0.00       209280.64        0             0   \n",
       "760249   C104327980      2083264.81      2104892.63        0             1   \n",
       "\n",
       "        type_CASH_OUT  type_DEBIT  type_PAYMENT  type_TRANSFER  \n",
       "488376              0           0             1              0  \n",
       "848937              0           0             0              0  \n",
       "752471              1           0             0              0  \n",
       "877899              1           0             0              0  \n",
       "760249              0           0             0              0  "
      ]
     },
     "execution_count": 32,
     "metadata": {},
     "output_type": "execute_result"
    }
   ],
   "source": [
    "categorical_dummies2  = pd.concat([final_sample_set, categorical_dummies], axis=1)\n",
    "categorical_dummies2.head()"
   ]
  },
  {
   "cell_type": "code",
   "execution_count": 33,
   "id": "420bd1d2",
   "metadata": {},
   "outputs": [
    {
     "data": {
      "text/html": [
       "<div>\n",
       "<style scoped>\n",
       "    .dataframe tbody tr th:only-of-type {\n",
       "        vertical-align: middle;\n",
       "    }\n",
       "\n",
       "    .dataframe tbody tr th {\n",
       "        vertical-align: top;\n",
       "    }\n",
       "\n",
       "    .dataframe thead th {\n",
       "        text-align: right;\n",
       "    }\n",
       "</style>\n",
       "<table border=\"1\" class=\"dataframe\">\n",
       "  <thead>\n",
       "    <tr style=\"text-align: right;\">\n",
       "      <th></th>\n",
       "      <th>step</th>\n",
       "      <th>amount</th>\n",
       "      <th>nameOrig</th>\n",
       "      <th>oldbalanceOrg</th>\n",
       "      <th>newbalanceOrig</th>\n",
       "      <th>nameDest</th>\n",
       "      <th>oldbalanceDest</th>\n",
       "      <th>newbalanceDest</th>\n",
       "      <th>isFraud</th>\n",
       "      <th>type_CASH_IN</th>\n",
       "      <th>type_CASH_OUT</th>\n",
       "      <th>type_DEBIT</th>\n",
       "      <th>type_PAYMENT</th>\n",
       "      <th>type_TRANSFER</th>\n",
       "    </tr>\n",
       "  </thead>\n",
       "  <tbody>\n",
       "    <tr>\n",
       "      <th>488376</th>\n",
       "      <td>19</td>\n",
       "      <td>12425.07</td>\n",
       "      <td>C653507306</td>\n",
       "      <td>381753.55</td>\n",
       "      <td>369328.48</td>\n",
       "      <td>M115947583</td>\n",
       "      <td>0.00</td>\n",
       "      <td>0.00</td>\n",
       "      <td>0</td>\n",
       "      <td>0</td>\n",
       "      <td>0</td>\n",
       "      <td>0</td>\n",
       "      <td>1</td>\n",
       "      <td>0</td>\n",
       "    </tr>\n",
       "    <tr>\n",
       "      <th>848937</th>\n",
       "      <td>41</td>\n",
       "      <td>177837.70</td>\n",
       "      <td>C1604476259</td>\n",
       "      <td>20635.00</td>\n",
       "      <td>198472.70</td>\n",
       "      <td>C861638092</td>\n",
       "      <td>173667.65</td>\n",
       "      <td>0.00</td>\n",
       "      <td>0</td>\n",
       "      <td>1</td>\n",
       "      <td>0</td>\n",
       "      <td>0</td>\n",
       "      <td>0</td>\n",
       "      <td>0</td>\n",
       "    </tr>\n",
       "    <tr>\n",
       "      <th>752471</th>\n",
       "      <td>38</td>\n",
       "      <td>243538.24</td>\n",
       "      <td>C1761700787</td>\n",
       "      <td>0.00</td>\n",
       "      <td>0.00</td>\n",
       "      <td>C1322450827</td>\n",
       "      <td>2930875.22</td>\n",
       "      <td>2801037.24</td>\n",
       "      <td>0</td>\n",
       "      <td>0</td>\n",
       "      <td>1</td>\n",
       "      <td>0</td>\n",
       "      <td>0</td>\n",
       "      <td>0</td>\n",
       "    </tr>\n",
       "    <tr>\n",
       "      <th>877899</th>\n",
       "      <td>42</td>\n",
       "      <td>209280.64</td>\n",
       "      <td>C651986913</td>\n",
       "      <td>170768.00</td>\n",
       "      <td>0.00</td>\n",
       "      <td>C2079332573</td>\n",
       "      <td>0.00</td>\n",
       "      <td>209280.64</td>\n",
       "      <td>0</td>\n",
       "      <td>0</td>\n",
       "      <td>1</td>\n",
       "      <td>0</td>\n",
       "      <td>0</td>\n",
       "      <td>0</td>\n",
       "    </tr>\n",
       "    <tr>\n",
       "      <th>760249</th>\n",
       "      <td>38</td>\n",
       "      <td>34293.60</td>\n",
       "      <td>C1766839883</td>\n",
       "      <td>598375.95</td>\n",
       "      <td>632669.54</td>\n",
       "      <td>C104327980</td>\n",
       "      <td>2083264.81</td>\n",
       "      <td>2104892.63</td>\n",
       "      <td>0</td>\n",
       "      <td>1</td>\n",
       "      <td>0</td>\n",
       "      <td>0</td>\n",
       "      <td>0</td>\n",
       "      <td>0</td>\n",
       "    </tr>\n",
       "    <tr>\n",
       "      <th>...</th>\n",
       "      <td>...</td>\n",
       "      <td>...</td>\n",
       "      <td>...</td>\n",
       "      <td>...</td>\n",
       "      <td>...</td>\n",
       "      <td>...</td>\n",
       "      <td>...</td>\n",
       "      <td>...</td>\n",
       "      <td>...</td>\n",
       "      <td>...</td>\n",
       "      <td>...</td>\n",
       "      <td>...</td>\n",
       "      <td>...</td>\n",
       "      <td>...</td>\n",
       "    </tr>\n",
       "    <tr>\n",
       "      <th>1047888</th>\n",
       "      <td>95</td>\n",
       "      <td>56745.14</td>\n",
       "      <td>C526144262</td>\n",
       "      <td>56745.14</td>\n",
       "      <td>0.00</td>\n",
       "      <td>C79051264</td>\n",
       "      <td>51433.88</td>\n",
       "      <td>108179.02</td>\n",
       "      <td>1</td>\n",
       "      <td>0</td>\n",
       "      <td>1</td>\n",
       "      <td>0</td>\n",
       "      <td>0</td>\n",
       "      <td>0</td>\n",
       "    </tr>\n",
       "    <tr>\n",
       "      <th>1048221</th>\n",
       "      <td>95</td>\n",
       "      <td>33676.59</td>\n",
       "      <td>C732111322</td>\n",
       "      <td>33676.59</td>\n",
       "      <td>0.00</td>\n",
       "      <td>C1140210295</td>\n",
       "      <td>0.00</td>\n",
       "      <td>0.00</td>\n",
       "      <td>1</td>\n",
       "      <td>0</td>\n",
       "      <td>0</td>\n",
       "      <td>0</td>\n",
       "      <td>0</td>\n",
       "      <td>1</td>\n",
       "    </tr>\n",
       "    <tr>\n",
       "      <th>1048222</th>\n",
       "      <td>95</td>\n",
       "      <td>33676.59</td>\n",
       "      <td>C1000086512</td>\n",
       "      <td>33676.59</td>\n",
       "      <td>0.00</td>\n",
       "      <td>C1759363094</td>\n",
       "      <td>0.00</td>\n",
       "      <td>33676.59</td>\n",
       "      <td>1</td>\n",
       "      <td>0</td>\n",
       "      <td>1</td>\n",
       "      <td>0</td>\n",
       "      <td>0</td>\n",
       "      <td>0</td>\n",
       "    </tr>\n",
       "    <tr>\n",
       "      <th>1048323</th>\n",
       "      <td>95</td>\n",
       "      <td>87999.25</td>\n",
       "      <td>C927181710</td>\n",
       "      <td>87999.25</td>\n",
       "      <td>0.00</td>\n",
       "      <td>C757947873</td>\n",
       "      <td>0.00</td>\n",
       "      <td>0.00</td>\n",
       "      <td>1</td>\n",
       "      <td>0</td>\n",
       "      <td>0</td>\n",
       "      <td>0</td>\n",
       "      <td>0</td>\n",
       "      <td>1</td>\n",
       "    </tr>\n",
       "    <tr>\n",
       "      <th>1048324</th>\n",
       "      <td>95</td>\n",
       "      <td>87999.25</td>\n",
       "      <td>C409531429</td>\n",
       "      <td>87999.25</td>\n",
       "      <td>0.00</td>\n",
       "      <td>C1827219533</td>\n",
       "      <td>0.00</td>\n",
       "      <td>87999.25</td>\n",
       "      <td>1</td>\n",
       "      <td>0</td>\n",
       "      <td>1</td>\n",
       "      <td>0</td>\n",
       "      <td>0</td>\n",
       "      <td>0</td>\n",
       "    </tr>\n",
       "  </tbody>\n",
       "</table>\n",
       "<p>2284 rows × 14 columns</p>\n",
       "</div>"
      ],
      "text/plain": [
       "         step     amount     nameOrig  oldbalanceOrg  newbalanceOrig  \\\n",
       "488376     19   12425.07   C653507306      381753.55       369328.48   \n",
       "848937     41  177837.70  C1604476259       20635.00       198472.70   \n",
       "752471     38  243538.24  C1761700787           0.00            0.00   \n",
       "877899     42  209280.64   C651986913      170768.00            0.00   \n",
       "760249     38   34293.60  C1766839883      598375.95       632669.54   \n",
       "...       ...        ...          ...            ...             ...   \n",
       "1047888    95   56745.14   C526144262       56745.14            0.00   \n",
       "1048221    95   33676.59   C732111322       33676.59            0.00   \n",
       "1048222    95   33676.59  C1000086512       33676.59            0.00   \n",
       "1048323    95   87999.25   C927181710       87999.25            0.00   \n",
       "1048324    95   87999.25   C409531429       87999.25            0.00   \n",
       "\n",
       "            nameDest  oldbalanceDest  newbalanceDest  isFraud  type_CASH_IN  \\\n",
       "488376    M115947583            0.00            0.00        0             0   \n",
       "848937    C861638092       173667.65            0.00        0             1   \n",
       "752471   C1322450827      2930875.22      2801037.24        0             0   \n",
       "877899   C2079332573            0.00       209280.64        0             0   \n",
       "760249    C104327980      2083264.81      2104892.63        0             1   \n",
       "...              ...             ...             ...      ...           ...   \n",
       "1047888    C79051264        51433.88       108179.02        1             0   \n",
       "1048221  C1140210295            0.00            0.00        1             0   \n",
       "1048222  C1759363094            0.00        33676.59        1             0   \n",
       "1048323   C757947873            0.00            0.00        1             0   \n",
       "1048324  C1827219533            0.00        87999.25        1             0   \n",
       "\n",
       "         type_CASH_OUT  type_DEBIT  type_PAYMENT  type_TRANSFER  \n",
       "488376               0           0             1              0  \n",
       "848937               0           0             0              0  \n",
       "752471               1           0             0              0  \n",
       "877899               1           0             0              0  \n",
       "760249               0           0             0              0  \n",
       "...                ...         ...           ...            ...  \n",
       "1047888              1           0             0              0  \n",
       "1048221              0           0             0              1  \n",
       "1048222              1           0             0              0  \n",
       "1048323              0           0             0              1  \n",
       "1048324              1           0             0              0  \n",
       "\n",
       "[2284 rows x 14 columns]"
      ]
     },
     "execution_count": 33,
     "metadata": {},
     "output_type": "execute_result"
    }
   ],
   "source": [
    "\n",
    "categorical_left = categorical_dummies2.drop(categorical,axis=1)\n",
    "\n",
    "categorical_left"
   ]
  },
  {
   "cell_type": "code",
   "execution_count": 34,
   "id": "3f1d464f",
   "metadata": {},
   "outputs": [],
   "source": [
    "# split data into features and target\n",
    "X= categorical_left.drop(['isFraud','nameOrig','nameDest'],axis =1)\n",
    "y=categorical_left['isFraud']"
   ]
  },
  {
   "cell_type": "code",
   "execution_count": 35,
   "id": "676933ed",
   "metadata": {},
   "outputs": [
    {
     "name": "stdout",
     "output_type": "stream",
     "text": [
      "(2284, 11)\n"
     ]
    }
   ],
   "source": [
    "X.head()\n",
    "\n",
    "print(X.shape)"
   ]
  },
  {
   "cell_type": "code",
   "execution_count": 36,
   "id": "924852ae",
   "metadata": {},
   "outputs": [
    {
     "data": {
      "text/plain": [
       "488376    0\n",
       "848937    0\n",
       "752471    0\n",
       "877899    0\n",
       "760249    0\n",
       "Name: isFraud, dtype: int64"
      ]
     },
     "execution_count": 36,
     "metadata": {},
     "output_type": "execute_result"
    }
   ],
   "source": [
    "# print(X)\n",
    "y.head()"
   ]
  },
  {
   "cell_type": "code",
   "execution_count": 37,
   "id": "e333a186",
   "metadata": {},
   "outputs": [],
   "source": [
    "#import the libraries we will need\n",
    "from sklearn.model_selection import train_test_split, cross_val_score, cross_val_predict\n",
    "from sklearn.linear_model import LogisticRegression\n",
    "from sklearn.metrics import accuracy_score, classification_report\n",
    "from sklearn.tree import DecisionTreeClassifier\n",
    "from sklearn import tree\n",
    "from sklearn.neighbors import KNeighborsClassifier\n",
    "from sklearn.ensemble import RandomForestClassifier"
   ]
  },
  {
   "cell_type": "code",
   "execution_count": 38,
   "id": "16ee2560",
   "metadata": {},
   "outputs": [],
   "source": [
    "# split the data into training and test data \n",
    "#split into training and validation sets using a 40% split ratio\n",
    "X_train,X_valid,y_train,y_valid = train_test_split(X,y,test_size=0.3)"
   ]
  },
  {
   "cell_type": "code",
   "execution_count": 39,
   "id": "4be08608",
   "metadata": {},
   "outputs": [
    {
     "name": "stdout",
     "output_type": "stream",
     "text": [
      "('X_train: ', (1598, 11)) ('X_valid: ', (686, 11)) ('y_train: ', (1598,)) ('y_valid: ', (686,))\n"
     ]
    }
   ],
   "source": [
    "print((\"X_train: \",X_train.shape), (\"X_valid: \",X_valid.shape),\n",
    "     (\"y_train: \",y_train.shape), (\"y_valid: \",y_valid.shape))"
   ]
  },
  {
   "cell_type": "code",
   "execution_count": 40,
   "id": "e51af4ce",
   "metadata": {},
   "outputs": [
    {
     "name": "stdout",
     "output_type": "stream",
     "text": [
      "         step      amount  oldbalanceOrg  newbalanceOrig  oldbalanceDest  \\\n",
      "1030751    90   134515.36      134515.36             0.0             0.0   \n",
      "992140     45  1069508.42     1069508.42             0.0             0.0   \n",
      "\n",
      "         newbalanceDest  type_CASH_IN  type_CASH_OUT  type_DEBIT  \\\n",
      "1030751             0.0             0              0           0   \n",
      "992140              0.0             0              0           0   \n",
      "\n",
      "         type_PAYMENT  type_TRANSFER  \n",
      "1030751             0              1  \n",
      "992140              0              1   717792     1\n",
      "1030335    1\n",
      "Name: isFraud, dtype: int64\n"
     ]
    }
   ],
   "source": [
    "print(X_train.head(2),\n",
    "      \n",
    "#       x_valid.head(2),\n",
    "      \n",
    "#       y_train.head(2),\n",
    "      \n",
    "      y_valid.head(2))"
   ]
  },
  {
   "cell_type": "code",
   "execution_count": 41,
   "id": "82d9f872",
   "metadata": {},
   "outputs": [],
   "source": [
    "# logistic regression\n",
    "LR = LogisticRegression()\n",
    "\n",
    "# k neighbors\n",
    "KN = KNeighborsClassifier()\n",
    "\n",
    "# decision tree\n",
    "DC = DecisionTreeClassifier()\n",
    "\n",
    "# random forest\n",
    "RF = RandomForestClassifier()"
   ]
  },
  {
   "cell_type": "code",
   "execution_count": 42,
   "id": "7403c2a6",
   "metadata": {},
   "outputs": [],
   "source": [
    "#create list of your model names\n",
    "models = [LR,KN,DC,RF]"
   ]
  },
  {
   "cell_type": "code",
   "execution_count": 43,
   "id": "68715746",
   "metadata": {},
   "outputs": [],
   "source": [
    "## Train and Test the models\n",
    "#  create function to train a model and evaluate accuracy\n",
    "def trainer(model,X_train,y_train,X_valid,y_valid):\n",
    "    # fit your model\n",
    "    model.fit(X_train,y_train)\n",
    "    # predict on the fitted model\n",
    "    prediction = model.predict(X_valid)\n",
    "    # print evaluation metric\n",
    "    print(\"\"\"\n",
    "    For {}, Accuracy score is {}\n",
    "    \"\"\".format(model.__class__.__name__,accuracy_score(prediction,y_valid)))\n",
    "    print(classification_report(prediction,y_valid)) #use this later"
   ]
  },
  {
   "cell_type": "code",
   "execution_count": 44,
   "id": "a2135d6f",
   "metadata": {},
   "outputs": [
    {
     "name": "stdout",
     "output_type": "stream",
     "text": [
      "\n",
      "    For LogisticRegression, Accuracy score is 0.9373177842565598\n",
      "    \n",
      "              precision    recall  f1-score   support\n",
      "\n",
      "           0       0.91      0.97      0.94       323\n",
      "           1       0.97      0.91      0.94       363\n",
      "\n",
      "    accuracy                           0.94       686\n",
      "   macro avg       0.94      0.94      0.94       686\n",
      "weighted avg       0.94      0.94      0.94       686\n",
      "\n",
      "\n",
      "    For KNeighborsClassifier, Accuracy score is 0.8935860058309038\n",
      "    \n",
      "              precision    recall  f1-score   support\n",
      "\n",
      "           0       0.90      0.89      0.89       347\n",
      "           1       0.89      0.90      0.89       339\n",
      "\n",
      "    accuracy                           0.89       686\n",
      "   macro avg       0.89      0.89      0.89       686\n",
      "weighted avg       0.89      0.89      0.89       686\n",
      "\n",
      "\n",
      "    For DecisionTreeClassifier, Accuracy score is 0.9650145772594753\n",
      "    \n",
      "              precision    recall  f1-score   support\n",
      "\n",
      "           0       0.96      0.97      0.96       338\n",
      "           1       0.97      0.96      0.97       348\n",
      "\n",
      "    accuracy                           0.97       686\n",
      "   macro avg       0.97      0.97      0.97       686\n",
      "weighted avg       0.97      0.97      0.97       686\n",
      "\n",
      "\n",
      "    For RandomForestClassifier, Accuracy score is 0.9606413994169096\n",
      "    \n",
      "              precision    recall  f1-score   support\n",
      "\n",
      "           0       0.96      0.96      0.96       341\n",
      "           1       0.96      0.96      0.96       345\n",
      "\n",
      "    accuracy                           0.96       686\n",
      "   macro avg       0.96      0.96      0.96       686\n",
      "weighted avg       0.96      0.96      0.96       686\n",
      "\n"
     ]
    }
   ],
   "source": [
    "#loop through each model, training in the process\n",
    "for model in models:\n",
    "    trainer(model,X_train,y_train,X_valid,y_valid)"
   ]
  },
  {
   "cell_type": "code",
   "execution_count": 45,
   "id": "9424cf81",
   "metadata": {},
   "outputs": [
    {
     "data": {
      "image/png": "[encoded data removed]",
      "text/plain": [
       "<Figure size 432x288 with 1 Axes>"
      ]
     },
     "metadata": {
      "needs_background": "light"
     },
     "output_type": "display_data"
    }
   ],
   "source": [
    "#get feature importances\n",
    "RF_importances = pd.DataFrame(data = RF.feature_importances_,index = X_valid.columns, columns=[\"Importance\"])\n",
    "\n",
    "#plot top 10 feature importances, sorted\n",
    "RF_importances[:10].sort_values(by=\"Importance\").plot.barh()\n",
    "\n",
    "plt.title(\"Feature importances for random forest\", fontsize= 15) #specification for Plot Title\n",
    "plt.legend(bbox_to_anchor=(1.02, 1), loc='upper left')\n",
    "plt.show()\n"
   ]
  },
  {
   "cell_type": "code",
   "execution_count": 46,
   "id": "6dd8d907",
   "metadata": {},
   "outputs": [
    {
     "data": {
      "text/plain": [
       "array(['type_DEBIT', 'type_CASH_IN', 'type_CASH_OUT', 'type_PAYMENT',\n",
       "       'oldbalanceDest', 'newbalanceDest', 'amount', 'step',\n",
       "       'newbalanceOrig', 'oldbalanceOrg'], dtype=object)"
      ]
     },
     "execution_count": 46,
     "metadata": {},
     "output_type": "execute_result"
    }
   ],
   "source": [
    "#get these top 10 importances\n",
    "RF_importances[:10].sort_values(by=\"Importance\").index.values"
   ]
  },
  {
   "cell_type": "markdown",
   "id": "5d04d6fd",
   "metadata": {},
   "source": [
    "# A Bit of Feature Selection"
   ]
  },
  {
   "cell_type": "code",
   "execution_count": 47,
   "id": "972b65f1",
   "metadata": {},
   "outputs": [
    {
     "data": {
      "text/html": [
       "<div>\n",
       "<style scoped>\n",
       "    .dataframe tbody tr th:only-of-type {\n",
       "        vertical-align: middle;\n",
       "    }\n",
       "\n",
       "    .dataframe tbody tr th {\n",
       "        vertical-align: top;\n",
       "    }\n",
       "\n",
       "    .dataframe thead th {\n",
       "        text-align: right;\n",
       "    }\n",
       "</style>\n",
       "<table border=\"1\" class=\"dataframe\">\n",
       "  <thead>\n",
       "    <tr style=\"text-align: right;\">\n",
       "      <th></th>\n",
       "      <th>type_DEBIT</th>\n",
       "      <th>type_CASH_IN</th>\n",
       "      <th>type_CASH_OUT</th>\n",
       "      <th>type_PAYMENT</th>\n",
       "      <th>oldbalanceDest</th>\n",
       "      <th>newbalanceDest</th>\n",
       "      <th>amount</th>\n",
       "      <th>newbalanceOrig</th>\n",
       "      <th>step</th>\n",
       "      <th>oldbalanceOrg</th>\n",
       "    </tr>\n",
       "  </thead>\n",
       "  <tbody>\n",
       "    <tr>\n",
       "      <th>1030751</th>\n",
       "      <td>0</td>\n",
       "      <td>0</td>\n",
       "      <td>0</td>\n",
       "      <td>0</td>\n",
       "      <td>0.00</td>\n",
       "      <td>0.00</td>\n",
       "      <td>134515.36</td>\n",
       "      <td>0.00</td>\n",
       "      <td>90</td>\n",
       "      <td>134515.36</td>\n",
       "    </tr>\n",
       "    <tr>\n",
       "      <th>992140</th>\n",
       "      <td>0</td>\n",
       "      <td>0</td>\n",
       "      <td>0</td>\n",
       "      <td>0</td>\n",
       "      <td>0.00</td>\n",
       "      <td>0.00</td>\n",
       "      <td>1069508.42</td>\n",
       "      <td>0.00</td>\n",
       "      <td>45</td>\n",
       "      <td>1069508.42</td>\n",
       "    </tr>\n",
       "    <tr>\n",
       "      <th>136420</th>\n",
       "      <td>0</td>\n",
       "      <td>0</td>\n",
       "      <td>1</td>\n",
       "      <td>0</td>\n",
       "      <td>112512.48</td>\n",
       "      <td>114612.48</td>\n",
       "      <td>2100.00</td>\n",
       "      <td>0.00</td>\n",
       "      <td>11</td>\n",
       "      <td>2100.00</td>\n",
       "    </tr>\n",
       "    <tr>\n",
       "      <th>810495</th>\n",
       "      <td>0</td>\n",
       "      <td>0</td>\n",
       "      <td>1</td>\n",
       "      <td>0</td>\n",
       "      <td>10600000.00</td>\n",
       "      <td>11100000.00</td>\n",
       "      <td>432117.11</td>\n",
       "      <td>0.00</td>\n",
       "      <td>40</td>\n",
       "      <td>0.00</td>\n",
       "    </tr>\n",
       "    <tr>\n",
       "      <th>952520</th>\n",
       "      <td>0</td>\n",
       "      <td>1</td>\n",
       "      <td>0</td>\n",
       "      <td>0</td>\n",
       "      <td>217196.44</td>\n",
       "      <td>105520.03</td>\n",
       "      <td>111676.41</td>\n",
       "      <td>136650.41</td>\n",
       "      <td>44</td>\n",
       "      <td>24974.00</td>\n",
       "    </tr>\n",
       "  </tbody>\n",
       "</table>\n",
       "</div>"
      ],
      "text/plain": [
       "         type_DEBIT  type_CASH_IN  type_CASH_OUT  type_PAYMENT  \\\n",
       "1030751           0             0              0             0   \n",
       "992140            0             0              0             0   \n",
       "136420            0             0              1             0   \n",
       "810495            0             0              1             0   \n",
       "952520            0             1              0             0   \n",
       "\n",
       "         oldbalanceDest  newbalanceDest      amount  newbalanceOrig  step  \\\n",
       "1030751            0.00            0.00   134515.36            0.00    90   \n",
       "992140             0.00            0.00  1069508.42            0.00    45   \n",
       "136420        112512.48       114612.48     2100.00            0.00    11   \n",
       "810495      10600000.00     11100000.00   432117.11            0.00    40   \n",
       "952520        217196.44       105520.03   111676.41       136650.41    44   \n",
       "\n",
       "         oldbalanceOrg  \n",
       "1030751      134515.36  \n",
       "992140      1069508.42  \n",
       "136420         2100.00  \n",
       "810495            0.00  \n",
       "952520        24974.00  "
      ]
     },
     "execution_count": 47,
     "metadata": {},
     "output_type": "execute_result"
    }
   ],
   "source": [
    "#create a new x train with only 10 features\n",
    "X_train2 = X_train[['type_DEBIT', 'type_CASH_IN', 'type_CASH_OUT', 'type_PAYMENT',\n",
    "       'oldbalanceDest', 'newbalanceDest', 'amount', 'newbalanceOrig',\n",
    "       'step', 'oldbalanceOrg']]\n",
    "X_train2.head()"
   ]
  },
  {
   "cell_type": "code",
   "execution_count": 48,
   "id": "f2dd7860",
   "metadata": {},
   "outputs": [
    {
     "data": {
      "text/html": [
       "<div>\n",
       "<style scoped>\n",
       "    .dataframe tbody tr th:only-of-type {\n",
       "        vertical-align: middle;\n",
       "    }\n",
       "\n",
       "    .dataframe tbody tr th {\n",
       "        vertical-align: top;\n",
       "    }\n",
       "\n",
       "    .dataframe thead th {\n",
       "        text-align: right;\n",
       "    }\n",
       "</style>\n",
       "<table border=\"1\" class=\"dataframe\">\n",
       "  <thead>\n",
       "    <tr style=\"text-align: right;\">\n",
       "      <th></th>\n",
       "      <th>type_DEBIT</th>\n",
       "      <th>type_CASH_IN</th>\n",
       "      <th>type_CASH_OUT</th>\n",
       "      <th>type_PAYMENT</th>\n",
       "      <th>oldbalanceDest</th>\n",
       "      <th>newbalanceDest</th>\n",
       "      <th>amount</th>\n",
       "      <th>newbalanceOrig</th>\n",
       "      <th>step</th>\n",
       "      <th>oldbalanceOrg</th>\n",
       "    </tr>\n",
       "  </thead>\n",
       "  <tbody>\n",
       "    <tr>\n",
       "      <th>717792</th>\n",
       "      <td>0</td>\n",
       "      <td>0</td>\n",
       "      <td>0</td>\n",
       "      <td>0</td>\n",
       "      <td>0.0</td>\n",
       "      <td>0.0</td>\n",
       "      <td>180967.56</td>\n",
       "      <td>0.00</td>\n",
       "      <td>37</td>\n",
       "      <td>180967.56</td>\n",
       "    </tr>\n",
       "    <tr>\n",
       "      <th>1030335</th>\n",
       "      <td>0</td>\n",
       "      <td>0</td>\n",
       "      <td>0</td>\n",
       "      <td>0</td>\n",
       "      <td>0.0</td>\n",
       "      <td>0.0</td>\n",
       "      <td>246938.77</td>\n",
       "      <td>0.00</td>\n",
       "      <td>58</td>\n",
       "      <td>246938.77</td>\n",
       "    </tr>\n",
       "    <tr>\n",
       "      <th>117281</th>\n",
       "      <td>0</td>\n",
       "      <td>0</td>\n",
       "      <td>0</td>\n",
       "      <td>1</td>\n",
       "      <td>0.0</td>\n",
       "      <td>0.0</td>\n",
       "      <td>16349.72</td>\n",
       "      <td>0.00</td>\n",
       "      <td>11</td>\n",
       "      <td>12448.00</td>\n",
       "    </tr>\n",
       "    <tr>\n",
       "      <th>6702</th>\n",
       "      <td>0</td>\n",
       "      <td>0</td>\n",
       "      <td>0</td>\n",
       "      <td>0</td>\n",
       "      <td>0.0</td>\n",
       "      <td>0.0</td>\n",
       "      <td>17320.91</td>\n",
       "      <td>0.00</td>\n",
       "      <td>6</td>\n",
       "      <td>17320.91</td>\n",
       "    </tr>\n",
       "    <tr>\n",
       "      <th>766887</th>\n",
       "      <td>0</td>\n",
       "      <td>0</td>\n",
       "      <td>0</td>\n",
       "      <td>1</td>\n",
       "      <td>0.0</td>\n",
       "      <td>0.0</td>\n",
       "      <td>24562.44</td>\n",
       "      <td>6719.56</td>\n",
       "      <td>39</td>\n",
       "      <td>31282.00</td>\n",
       "    </tr>\n",
       "  </tbody>\n",
       "</table>\n",
       "</div>"
      ],
      "text/plain": [
       "         type_DEBIT  type_CASH_IN  type_CASH_OUT  type_PAYMENT  \\\n",
       "717792            0             0              0             0   \n",
       "1030335           0             0              0             0   \n",
       "117281            0             0              0             1   \n",
       "6702              0             0              0             0   \n",
       "766887            0             0              0             1   \n",
       "\n",
       "         oldbalanceDest  newbalanceDest     amount  newbalanceOrig  step  \\\n",
       "717792              0.0             0.0  180967.56            0.00    37   \n",
       "1030335             0.0             0.0  246938.77            0.00    58   \n",
       "117281              0.0             0.0   16349.72            0.00    11   \n",
       "6702                0.0             0.0   17320.91            0.00     6   \n",
       "766887              0.0             0.0   24562.44         6719.56    39   \n",
       "\n",
       "         oldbalanceOrg  \n",
       "717792       180967.56  \n",
       "1030335      246938.77  \n",
       "117281        12448.00  \n",
       "6702          17320.91  \n",
       "766887        31282.00  "
      ]
     },
     "execution_count": 48,
     "metadata": {},
     "output_type": "execute_result"
    }
   ],
   "source": [
    "X_valid2 = X_valid[['type_DEBIT', 'type_CASH_IN', 'type_CASH_OUT', 'type_PAYMENT',\n",
    "       'oldbalanceDest', 'newbalanceDest', 'amount', 'newbalanceOrig',\n",
    "       'step', 'oldbalanceOrg']]\n",
    "X_valid2.head()"
   ]
  },
  {
   "cell_type": "code",
   "execution_count": 49,
   "id": "ae2deefa",
   "metadata": {},
   "outputs": [
    {
     "name": "stdout",
     "output_type": "stream",
     "text": [
      "(686, 10)\n",
      "(1598, 10)\n"
     ]
    }
   ],
   "source": [
    "print(X_valid2.shape)\n",
    "\n",
    "print(X_train2.shape)\n"
   ]
  },
  {
   "cell_type": "code",
   "execution_count": 50,
   "id": "81f3c8c0",
   "metadata": {},
   "outputs": [],
   "source": [
    "#create function to train a model and evaluate accuracy\n",
    "def trainer(model,X_train2,y_train,X_valid2,y_valid):\n",
    "    #fit your model\n",
    "    model.fit(X_train2,y_train)\n",
    "    #predict on the fitted model\n",
    "    prediction = model.predict(X_valid2)\n",
    "    #print evaluation metric\n",
    "    print(\"\\nFor {}, Accuracy score is {} \\n\".format(model.__class__.__name__,accuracy_score(prediction,y_valid)))\n",
    "    #print(classification_report(prediction,y_valid)) #use this later"
   ]
  },
  {
   "cell_type": "code",
   "execution_count": 51,
   "id": "7060f7d1",
   "metadata": {},
   "outputs": [
    {
     "name": "stdout",
     "output_type": "stream",
     "text": [
      "\n",
      "For LogisticRegression, Accuracy score is 0.9373177842565598 \n",
      "\n",
      "\n",
      "For KNeighborsClassifier, Accuracy score is 0.8935860058309038 \n",
      "\n",
      "\n",
      "For DecisionTreeClassifier, Accuracy score is 0.9664723032069971 \n",
      "\n",
      "\n",
      "For RandomForestClassifier, Accuracy score is 0.9693877551020408 \n",
      "\n"
     ]
    }
   ],
   "source": [
    "# LOOP THROUUGH EACH MODEL TRAINING IN PROCESS\n",
    "for model in models:\n",
    "    trainer(model,X_train2,y_train,X_valid2,y_valid)"
   ]
  },
  {
   "cell_type": "markdown",
   "id": "0f881de9",
   "metadata": {},
   "source": [
    "# Evaluating with Cross Validation\n",
    "In cross validation, the model splits the training data into multiple blocks. Using 1 block as test set for each training iteration, it trains the other blocks and validates against the test data.\n",
    "\n",
    "This gives you an idea of how the model will perform when it sees new data in the real world that it hasn\"t seen before."
   ]
  },
  {
   "cell_type": "code",
   "execution_count": 53,
   "id": "88e33441",
   "metadata": {},
   "outputs": [],
   "source": [
    "# evaluate your models using k-fold cross-validation\n",
    "from numpy import mean\n",
    "from numpy import std\n",
    "from sklearn.model_selection import KFold\n",
    "from sklearn.model_selection import cross_val_score, cross_val_predict\n",
    "from sklearn.linear_model import LogisticRegression\n",
    "\n",
    "# prepare the cross-validation procedure\n",
    "cv = KFold(n_splits=10, random_state=1, shuffle=True)"
   ]
  },
  {
   "cell_type": "code",
   "execution_count": 54,
   "id": "de7756ae",
   "metadata": {},
   "outputs": [],
   "source": [
    "#create function to train a model with cross validations and evaluate accuracy\n",
    "def trainer_with_cv(model,x,y):\n",
    "    \"\"\"Cross validation function. Expects a model,\"\"\"\n",
    "    # evaluate model\n",
    "    scores = cross_val_score(model, x, y, scoring=\"accuracy\", cv=cv, n_jobs=-1)\n",
    "    # report performance\n",
    "    print(\"Accuracy: %.3f\" % (mean(scores)))\n",
    "    "
   ]
  },
  {
   "cell_type": "code",
   "execution_count": 55,
   "id": "16a80829",
   "metadata": {},
   "outputs": [
    {
     "name": "stdout",
     "output_type": "stream",
     "text": [
      "Accuracy: 0.938\n",
      "Accuracy: 0.906\n",
      "Accuracy: 0.973\n",
      "Accuracy: 0.972\n"
     ]
    }
   ],
   "source": [
    "#train and predict, looping through the list of models\n",
    "for model in models:\n",
    "    trainer_with_cv(model,X_train2,y_train)"
   ]
  },
  {
   "cell_type": "markdown",
   "id": "2a91471b",
   "metadata": {},
   "source": [
    "# Interpret Results"
   ]
  },
  {
   "cell_type": "code",
   "execution_count": 56,
   "id": "c8897a80",
   "metadata": {},
   "outputs": [],
   "source": [
    "from sklearn.metrics import confusion_matrix\n",
    "from sklearn.pipeline import make_pipeline"
   ]
  },
  {
   "cell_type": "code",
   "execution_count": 57,
   "id": "15aabb72",
   "metadata": {},
   "outputs": [
    {
     "data": {
      "text/plain": [
       "Pipeline(steps=[('standardscaler', StandardScaler()),\n",
       "                ('gaussiannb', GaussianNB())])"
      ]
     },
     "execution_count": 57,
     "metadata": {},
     "output_type": "execute_result"
    }
   ],
   "source": [
    "from sklearn.naive_bayes import GaussianNB\n",
    "from sklearn.preprocessing import StandardScaler\n",
    "from sklearn.pipeline import make_pipeline\n",
    "make_pipeline(StandardScaler(), GaussianNB(priors=None))\n"
   ]
  },
  {
   "cell_type": "markdown",
   "id": "6a8b07cb",
   "metadata": {},
   "source": [
    "# Logistic Regression - Confusion Matrix"
   ]
  },
  {
   "cell_type": "code",
   "execution_count": 58,
   "id": "25f62271",
   "metadata": {},
   "outputs": [
    {
     "data": {
      "text/plain": [
       "Pipeline(steps=[('standardscaler', StandardScaler()),\n",
       "                ('logisticregression', LogisticRegression(random_state=0))])"
      ]
     },
     "execution_count": 58,
     "metadata": {},
     "output_type": "execute_result"
    }
   ],
   "source": [
    "X_train, X_test, y_train, y_test = train_test_split(X, y, stratify=y)\n",
    "\n",
    "\n",
    "clf = make_pipeline(StandardScaler(), LogisticRegression(random_state=0))\n",
    "clf.fit(X_train, y_train)"
   ]
  },
  {
   "cell_type": "code",
   "execution_count": 59,
   "id": "012bfdcf",
   "metadata": {},
   "outputs": [
    {
     "data": {
      "text/plain": [
       "Text(0.5, 1.0, 'Logistic Regression_Confusion Matrix')"
      ]
     },
     "execution_count": 59,
     "metadata": {},
     "output_type": "execute_result"
    },
    {
     "data": {
      "image/png": "[encoded data removed]",
      "text/plain": [
       "<Figure size 432x288 with 2 Axes>"
      ]
     },
     "metadata": {
      "needs_background": "light"
     },
     "output_type": "display_data"
    }
   ],
   "source": [
    "from sklearn.metrics import ConfusionMatrixDisplay\n",
    "\n",
    "y_pred = clf.predict(X_test)\n",
    "cm = confusion_matrix(y_test, y_pred)\n",
    "\n",
    "cm_display = ConfusionMatrixDisplay(cm).plot(cmap=\"Blues\")\n",
    "plt.title(\"Logistic Regression_Confusion Matrix\", fontsize= 15) #specification for Plot Title"
   ]
  },
  {
   "cell_type": "code",
   "execution_count": 60,
   "id": "f3848a0d",
   "metadata": {},
   "outputs": [
    {
     "name": "stdout",
     "output_type": "stream",
     "text": [
      "[[240  46]\n",
      " [ 39 246]]\n"
     ]
    }
   ],
   "source": [
    "print(cm)"
   ]
  },
  {
   "cell_type": "markdown",
   "id": "44a498a5",
   "metadata": {},
   "source": [
    "# K-Neighbors - Confusion Matrix"
   ]
  },
  {
   "cell_type": "code",
   "execution_count": 61,
   "id": "ee50a421",
   "metadata": {},
   "outputs": [
    {
     "data": {
      "text/plain": [
       "Pipeline(steps=[('standardscaler', StandardScaler()),\n",
       "                ('kneighborsclassifier', KNeighborsClassifier())])"
      ]
     },
     "execution_count": 61,
     "metadata": {},
     "output_type": "execute_result"
    }
   ],
   "source": [
    "KN_CM = make_pipeline(StandardScaler(), KNeighborsClassifier(n_neighbors=5))\n",
    "KN_CM.fit(X_train, y_train)"
   ]
  },
  {
   "cell_type": "code",
   "execution_count": 62,
   "id": "d9ece3cf",
   "metadata": {},
   "outputs": [
    {
     "data": {
      "text/plain": [
       "Text(0.5, 1.0, 'KNeighbors_Confusion Matrix')"
      ]
     },
     "execution_count": 62,
     "metadata": {},
     "output_type": "execute_result"
    },
    {
     "data": {
      "image/png": "[encoded data removed]",
      "text/plain": [
       "<Figure size 432x288 with 2 Axes>"
      ]
     },
     "metadata": {
      "needs_background": "light"
     },
     "output_type": "display_data"
    }
   ],
   "source": [
    "\n",
    "y_pred = KN_CM.predict(X_test)\n",
    "KCM = confusion_matrix(y_test, y_pred)\n",
    "\n",
    "kcm_display = ConfusionMatrixDisplay(KCM).plot(cmap=\"Blues\")\n",
    "plt.title(\"KNeighbors_Confusion Matrix\", fontsize= 15) #specification for Plot Title"
   ]
  },
  {
   "cell_type": "code",
   "execution_count": 63,
   "id": "6eefc20a",
   "metadata": {},
   "outputs": [
    {
     "name": "stdout",
     "output_type": "stream",
     "text": [
      "[[240  46]\n",
      " [ 39 246]]\n"
     ]
    }
   ],
   "source": [
    "print(cm)"
   ]
  },
  {
   "cell_type": "markdown",
   "id": "712bb0c2",
   "metadata": {},
   "source": []
  },
  {
   "cell_type": "markdown",
   "id": "361833ba",
   "metadata": {},
   "source": [
    "# Decision Tree - Confusion Matrix"
   ]
  },
  {
   "cell_type": "code",
   "execution_count": 64,
   "id": "ce6edfbd",
   "metadata": {},
   "outputs": [
    {
     "data": {
      "text/plain": [
       "Pipeline(steps=[('standardscaler', StandardScaler()),\n",
       "                ('decisiontreeclassifier', DecisionTreeClassifier())])"
      ]
     },
     "execution_count": 64,
     "metadata": {},
     "output_type": "execute_result"
    }
   ],
   "source": [
    "DT_CM = make_pipeline(StandardScaler(), DecisionTreeClassifier(splitter='best'))\n",
    "DT_CM.fit(X_train, y_train)"
   ]
  },
  {
   "cell_type": "code",
   "execution_count": 65,
   "id": "5f29669b",
   "metadata": {},
   "outputs": [
    {
     "data": {
      "text/plain": [
       "Text(0.5, 1.0, 'Decision Tree_Confusion Matrix')"
      ]
     },
     "execution_count": 65,
     "metadata": {},
     "output_type": "execute_result"
    },
    {
     "data": {
      "image/png": "[encoded data removed]",
      "text/plain": [
       "<Figure size 432x288 with 2 Axes>"
      ]
     },
     "metadata": {
      "needs_background": "light"
     },
     "output_type": "display_data"
    }
   ],
   "source": [
    "y_pred = DT_CM.predict(X_test)\n",
    "DTCM = confusion_matrix(y_test, y_pred)\n",
    "\n",
    "dtcm_display = ConfusionMatrixDisplay(DTCM).plot(cmap=\"Blues\")\n",
    "plt.title(\"Decision Tree_Confusion Matrix\", fontsize= 15) #specification for Plot Title"
   ]
  },
  {
   "cell_type": "code",
   "execution_count": 66,
   "id": "65d6e906",
   "metadata": {},
   "outputs": [
    {
     "name": "stdout",
     "output_type": "stream",
     "text": [
      "[[240  46]\n",
      " [ 39 246]]\n"
     ]
    }
   ],
   "source": [
    "print(cm)"
   ]
  },
  {
   "cell_type": "markdown",
   "id": "ab560b8f",
   "metadata": {},
   "source": [
    "# Random Forest - Confusion Matrix"
   ]
  },
  {
   "cell_type": "code",
   "execution_count": 67,
   "id": "449bebf9",
   "metadata": {},
   "outputs": [
    {
     "data": {
      "text/plain": [
       "Pipeline(steps=[('standardscaler', StandardScaler()),\n",
       "                ('randomforestclassifier', RandomForestClassifier())])"
      ]
     },
     "execution_count": 67,
     "metadata": {},
     "output_type": "execute_result"
    }
   ],
   "source": [
    "RF_CM = make_pipeline(StandardScaler(), RandomForestClassifier(max_features='auto'))\n",
    "RF_CM.fit(X_train, y_train)"
   ]
  },
  {
   "cell_type": "code",
   "execution_count": 71,
   "id": "59889cfa",
   "metadata": {},
   "outputs": [
    {
     "data": {
      "text/plain": [
       "Text(0.5, 1.0, 'Random Forest_Confusion Matrix')"
      ]
     },
     "execution_count": 71,
     "metadata": {},
     "output_type": "execute_result"
    },
    {
     "data": {
      "image/png": "[encoded data removed]",
      "text/plain": [
       "<Figure size 432x288 with 2 Axes>"
      ]
     },
     "metadata": {
      "needs_background": "light"
     },
     "output_type": "display_data"
    }
   ],
   "source": [
    "\n",
    "y_pred = RF_CM.predict(X_test)\n",
    "RFCM = confusion_matrix(y_test, y_pred)\n",
    "\n",
    "rfcm_display = ConfusionMatrixDisplay(RFCM).plot(cmap=\"Blues\")\n",
    "plt.title(\"Random Forest_Confusion Matrix\", fontsize= 15) #specification for Plot Title"
   ]
  },
  {
   "cell_type": "code",
   "execution_count": 72,
   "id": "ceb4a6aa",
   "metadata": {},
   "outputs": [
    {
     "name": "stdout",
     "output_type": "stream",
     "text": [
      "[[236  49]\n",
      " [ 29 257]]\n"
     ]
    }
   ],
   "source": [
    "print(cm)"
   ]
  },
  {
   "cell_type": "markdown",
   "id": "c3303fe5",
   "metadata": {},
   "source": [
    "# FROM THE ANALYSIS, RANDOM FOREST CLASSIFIER SHOULD BE DEPLOY SINCE IT HAS THE HIGHEST ACCURACY. "
   ]
  },
  {
   "cell_type": "code",
   "execution_count": null,
   "id": "d7286b02",
   "metadata": {},
   "outputs": [],
   "source": []
  }
 ],
 "metadata": {
  "kernelspec": {
   "display_name": "Python 3 (ipykernel)",
   "language": "python",
   "name": "python3"
  },
  "language_info": {
   "codemirror_mode": {
    "name": "ipython",
    "version": 3
   },
   "file_extension": ".py",
   "mimetype": "text/x-python",
   "name": "python",
   "nbconvert_exporter": "python",
   "pygments_lexer": "ipython3",
   "version": "3.9.12"
  }
 },
 "nbformat": 4,
 "nbformat_minor": 5
}
